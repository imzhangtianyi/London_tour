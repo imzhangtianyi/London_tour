{
 "cells": [
  {
   "cell_type": "code",
   "execution_count": 1,
   "metadata": {
    "collapsed": true
   },
   "outputs": [],
   "source": [
    "from bs4 import BeautifulSoup\n",
    "import requests\n",
    "import time"
   ]
  },
  {
   "cell_type": "code",
   "execution_count": 63,
   "metadata": {
    "collapsed": true
   },
   "outputs": [],
   "source": [
    "import csv\n",
    "with open('att_url.csv', 'rb') as csvfile:\n",
    "    u = list(csv.reader(csvfile))"
   ]
  },
  {
   "cell_type": "code",
   "execution_count": 2,
   "metadata": {
    "collapsed": true
   },
   "outputs": [],
   "source": [
    "page_recq = requests.get('https://www.tripadvisor.com/Attraction_Review-g186338-d188862-Reviews-National_Gallery-London_England.html',\n",
    "                                 timeout=5)\n",
    "soup = BeautifulSoup(page_recq.content, \"html.parser\")"
   ]
  },
  {
   "cell_type": "code",
   "execution_count": 3,
   "metadata": {},
   "outputs": [
    {
     "data": {
      "text/plain": [
       "u'National Gallery'"
      ]
     },
     "execution_count": 3,
     "metadata": {},
     "output_type": "execute_result"
    }
   ],
   "source": [
    "soup.find('h1', {'id':'HEADING'}).getText()"
   ]
  },
  {
   "cell_type": "code",
   "execution_count": 4,
   "metadata": {},
   "outputs": [
    {
     "data": {
      "text/plain": [
       "[u'32,819', u'Reviews']"
      ]
     },
     "execution_count": 4,
     "metadata": {},
     "output_type": "execute_result"
    }
   ],
   "source": [
    "soup.find('a', {'href':'#REVIEWS'}).getText().split()"
   ]
  },
  {
   "cell_type": "code",
   "execution_count": 108,
   "metadata": {},
   "outputs": [
    {
     "data": {
      "text/plain": [
       "u'Cromwell Road, London SW7 2RL, England'"
      ]
     },
     "execution_count": 108,
     "metadata": {},
     "output_type": "execute_result"
    }
   ],
   "source": [
    "soup.find('div', {'class':'detail_section address'}).getText()"
   ]
  },
  {
   "cell_type": "code",
   "execution_count": 109,
   "metadata": {},
   "outputs": [
    {
     "data": {
      "text/plain": [
       "u'Cromwell Road'"
      ]
     },
     "execution_count": 109,
     "metadata": {},
     "output_type": "execute_result"
    }
   ],
   "source": [
    "soup.find('span', {'class':'street-address'}).getText()"
   ]
  },
  {
   "cell_type": "code",
   "execution_count": 110,
   "metadata": {},
   "outputs": [
    {
     "data": {
      "text/plain": [
       "u'London SW7 2RL, '"
      ]
     },
     "execution_count": 110,
     "metadata": {},
     "output_type": "execute_result"
    }
   ],
   "source": [
    "soup.find('span', {'class':'locality'}).getText()"
   ]
  },
  {
   "cell_type": "code",
   "execution_count": 111,
   "metadata": {},
   "outputs": [
    {
     "data": {
      "text/plain": [
       "u'#3'"
      ]
     },
     "execution_count": 111,
     "metadata": {},
     "output_type": "execute_result"
    }
   ],
   "source": [
    "soup.find('b', {'class':''}).getText()"
   ]
  },
  {
   "cell_type": "code",
   "execution_count": 112,
   "metadata": {},
   "outputs": [
    {
     "data": {
      "text/plain": [
       "u' Art Museums, Museums'"
      ]
     },
     "execution_count": 112,
     "metadata": {},
     "output_type": "execute_result"
    }
   ],
   "source": [
    "soup.find('div', {'class':'detail'}).getText()"
   ]
  },
  {
   "cell_type": "code",
   "execution_count": 113,
   "metadata": {},
   "outputs": [
    {
     "data": {
      "text/plain": [
       "u'+44 20 7942 2000'"
      ]
     },
     "execution_count": 113,
     "metadata": {},
     "output_type": "execute_result"
    }
   ],
   "source": [
    "soup.find('div', {'class':'detail_section phone'}).getText()"
   ]
  },
  {
   "cell_type": "code",
   "execution_count": 182,
   "metadata": {
    "collapsed": true
   },
   "outputs": [],
   "source": [
    "try:\n",
    "    a = soup.find('div', {'class':'detail_section duration'}).getText()\n",
    "except:\n",
    "    print 0"
   ]
  },
  {
   "cell_type": "code",
   "execution_count": 183,
   "metadata": {},
   "outputs": [
    {
     "data": {
      "text/plain": [
       "u'Suggested Duration: 2-3 hours'"
      ]
     },
     "execution_count": 183,
     "metadata": {},
     "output_type": "execute_result"
    }
   ],
   "source": [
    "a"
   ]
  },
  {
   "cell_type": "code",
   "execution_count": 5,
   "metadata": {},
   "outputs": [
    {
     "data": {
      "text/plain": [
       "u'Closed Now Fri10:00 AM - 9:00 PMSat - Thu10:00 AM - 6:00 PMHours Hours Today: 10:00 AM - 6:00 PM'"
      ]
     },
     "execution_count": 5,
     "metadata": {},
     "output_type": "execute_result"
    }
   ],
   "source": [
    "soup.find('div', {'class':'detail_section hours'}).getText()"
   ]
  },
  {
   "cell_type": "code",
   "execution_count": 117,
   "metadata": {},
   "outputs": [
    {
     "data": {
      "text/plain": [
       "u'Knightsbridge'"
      ]
     },
     "execution_count": 117,
     "metadata": {},
     "output_type": "execute_result"
    }
   ],
   "source": [
    "soup.find('div', {'class':'detail_section neighborhood'}).getText()"
   ]
  },
  {
   "cell_type": "code",
   "execution_count": 6,
   "metadata": {},
   "outputs": [
    {
     "data": {
      "text/plain": [
       "u'The National Gallery houses the national collection of paintings in the Western European tradition from the 13th to the 19th centuries. It is on show 361 days a year, free of charge.'"
      ]
     },
     "execution_count": 6,
     "metadata": {},
     "output_type": "execute_result"
    }
   ],
   "source": [
    "soup.find('div', {'class':'modal-card-body'}).getText()"
   ]
  },
  {
   "cell_type": "code",
   "execution_count": 143,
   "metadata": {
    "collapsed": true
   },
   "outputs": [],
   "source": [
    "tags0 = soup.find_all('div', {'class':'tagWord'})\n",
    "tag = []\n",
    "for t in tags0:\n",
    "    tag.append(t.getText()[1:-1])\n",
    "tags = ', '.join(tag)"
   ]
  },
  {
   "cell_type": "code",
   "execution_count": 3,
   "metadata": {
    "collapsed": true
   },
   "outputs": [],
   "source": [
    "r0 = soup.find_all('div', {'class':'reviewSelector'})"
   ]
  },
  {
   "cell_type": "code",
   "execution_count": 153,
   "metadata": {},
   "outputs": [
    {
     "name": "stdout",
     "output_type": "stream",
     "text": [
      "Museum day in London\n",
      "A truly eclectic museum\n",
      "Best London Exhibition of 2018\n",
      "Sunday at the V&A\n",
      "My all time favorite!\n",
      "Ocean Liners exhibition\n",
      "I am a local and this is one of my favorite museums in London\n",
      "One of the Greats!\n",
      "Dull and over-rated\n",
      "So cool\n"
     ]
    }
   ],
   "source": [
    "for r in r0:\n",
    "    quote = r.find('span', {'class':'noQuotes'}).getText()\n",
    "    print quote"
   ]
  },
  {
   "cell_type": "code",
   "execution_count": 154,
   "metadata": {},
   "outputs": [
    {
     "name": "stdout",
     "output_type": "stream",
     "text": [
      "While the exhibitions at the V&A Museum are well done, they are small and other museums and venues have larger/better pieces from the period when Queen Victoria was Queen, 64 years.\n",
      "My expectation was more art pieces donated by Q Victoria for the museum when...More\n",
      "One of the South Kensington group of museums (and national collections) created after the Great Exhibition of 1851, I have been visiting the V&A since I was about 18 - many years ago - and even for the most demanding person there will be Something...More\n",
      "All the hallmarks youve come to expect from a V&A Exhibition-Style & Innovation,Humour and Amazing Staging-not just glass boxes of stuff-Beautifully lit and very Spacious (when we were there a sunday lunchtime!!)Even tho we had heavily discounted tickets-if your a fan its actually worth full...More\n",
      "The Ocean Liner Exhibition was very good. It was informative, interesting and fun and the exhibition designers had thoughtfully staged the event. Some of the information panels would have proved difficult for people with limited vision to see. However the setting of the fragment of...More\n",
      "Being a student of art history I visit many museums where ever I go. So far, this was the best one. You see the impressive collections for free and the very lovely staff will help you to find your way around. Personal tip: start with...More\n",
      "We went to the Ocean Liners, Speed and Style exhibition using a 2 for 1 deal from Greater Anglia rail. Really enjoyed the exhibition. Nothing too technical and lots about the social aspect of travelling. The full price is £18 per person, bit pricey! Good...More\n",
      "What I love about this place is that every time I go back I find something new and interesting. This museum is enormous and every room takes back to another era.\n",
      "Beautiful building, fabulous collections, we went twice and there's still much more to see. One of the best Museum shops of all too!\n",
      "The only interesting exhibitions had to be paid for. The free ones were not very interesting at all. Over crowded, noisy café. Good luggage storage.\n",
      "Literally walked in jusr before closing as we passed by. Many cool exhibits but the jewlery exhibit was the coolest.\n"
     ]
    }
   ],
   "source": [
    "for r in r0:\n",
    "    review = r.find('p', {'class':'partial_entry'}).getText()\n",
    "    print review"
   ]
  },
  {
   "cell_type": "code",
   "execution_count": 156,
   "metadata": {},
   "outputs": [
    {
     "name": "stdout",
     "output_type": "stream",
     "text": [
      "yocindyg\n",
      "dlewisbill\n",
      "robertyesuk\n",
      "David E\n",
      "Cedric H\n",
      "LindiSue\n",
      "KingaBronski\n",
      "LynR225\n",
      "VoniL\n",
      "Sang C\n"
     ]
    }
   ],
   "source": [
    "for r in r0:\n",
    "    user = r.find('div', {'class':'username mo'}).getText()\n",
    "    print user"
   ]
  },
  {
   "cell_type": "code",
   "execution_count": 176,
   "metadata": {},
   "outputs": [
    {
     "name": "stdout",
     "output_type": "stream",
     "text": [
      "6 3\n",
      "35 17\n"
     ]
    },
    {
     "ename": "IndexError",
     "evalue": "list index out of range",
     "output_type": "error",
     "traceback": [
      "\u001b[1;31m---------------------------------------------------------------------------\u001b[0m",
      "\u001b[1;31mIndexError\u001b[0m                                Traceback (most recent call last)",
      "\u001b[1;32m<ipython-input-176-ce192c262db4>\u001b[0m in \u001b[0;36m<module>\u001b[1;34m()\u001b[0m\n\u001b[0;32m      3\u001b[0m     \u001b[0mcuv\u001b[0m \u001b[1;33m=\u001b[0m \u001b[0mcu\u001b[0m\u001b[1;33m.\u001b[0m\u001b[0mfind_all\u001b[0m\u001b[1;33m(\u001b[0m\u001b[1;34m'span'\u001b[0m\u001b[1;33m,\u001b[0m \u001b[1;33m{\u001b[0m\u001b[1;34m'class'\u001b[0m\u001b[1;33m:\u001b[0m\u001b[1;34m'badgetext'\u001b[0m\u001b[1;33m}\u001b[0m\u001b[1;33m)\u001b[0m\u001b[1;33m\u001b[0m\u001b[0m\n\u001b[0;32m      4\u001b[0m     \u001b[0muser_Contributions\u001b[0m \u001b[1;33m=\u001b[0m \u001b[0mcuv\u001b[0m\u001b[1;33m[\u001b[0m\u001b[1;36m0\u001b[0m\u001b[1;33m]\u001b[0m\u001b[1;33m.\u001b[0m\u001b[0mgetText\u001b[0m\u001b[1;33m(\u001b[0m\u001b[1;33m)\u001b[0m\u001b[1;33m\u001b[0m\u001b[0m\n\u001b[1;32m----> 5\u001b[1;33m     \u001b[0muser_UpVotes\u001b[0m \u001b[1;33m=\u001b[0m \u001b[0mcuv\u001b[0m\u001b[1;33m[\u001b[0m\u001b[1;36m1\u001b[0m\u001b[1;33m]\u001b[0m\u001b[1;33m.\u001b[0m\u001b[0mgetText\u001b[0m\u001b[1;33m(\u001b[0m\u001b[1;33m)\u001b[0m\u001b[1;33m\u001b[0m\u001b[0m\n\u001b[0m\u001b[0;32m      6\u001b[0m     \u001b[1;32mprint\u001b[0m \u001b[0muser_Contributions\u001b[0m\u001b[1;33m,\u001b[0m \u001b[0muser_UpVotes\u001b[0m\u001b[1;33m\u001b[0m\u001b[0m\n",
      "\u001b[1;31mIndexError\u001b[0m: list index out of range"
     ]
    }
   ],
   "source": [
    "for r in r0:\n",
    "    cu = r.find('div', {'class':'memberBadgingNoText'})\n",
    "    cuv = cu.find_all('span', {'class':'badgetext'})\n",
    "    user_Contributions = cuv[0].getText()\n",
    "    user_UpVotes = cuv[1].getText()\n",
    "    print user_Contributions, user_UpVotes"
   ]
  },
  {
   "cell_type": "code",
   "execution_count": 177,
   "metadata": {},
   "outputs": [
    {
     "name": "stdout",
     "output_type": "stream",
     "text": [
      "Redlands, California\n",
      "London, United Kingdom\n",
      "London, United Kingdom\n"
     ]
    },
    {
     "ename": "AttributeError",
     "evalue": "'NoneType' object has no attribute 'getText'",
     "output_type": "error",
     "traceback": [
      "\u001b[1;31m---------------------------------------------------------------------------\u001b[0m",
      "\u001b[1;31mAttributeError\u001b[0m                            Traceback (most recent call last)",
      "\u001b[1;32m<ipython-input-177-a29492d2a7aa>\u001b[0m in \u001b[0;36m<module>\u001b[1;34m()\u001b[0m\n\u001b[0;32m      1\u001b[0m \u001b[1;32mfor\u001b[0m \u001b[0mr\u001b[0m \u001b[1;32min\u001b[0m \u001b[0mr0\u001b[0m\u001b[1;33m:\u001b[0m\u001b[1;33m\u001b[0m\u001b[0m\n\u001b[1;32m----> 2\u001b[1;33m     \u001b[0muser_location\u001b[0m \u001b[1;33m=\u001b[0m \u001b[0mr\u001b[0m\u001b[1;33m.\u001b[0m\u001b[0mfind\u001b[0m\u001b[1;33m(\u001b[0m\u001b[1;34m'div'\u001b[0m\u001b[1;33m,\u001b[0m \u001b[1;33m{\u001b[0m\u001b[1;34m'class'\u001b[0m\u001b[1;33m:\u001b[0m\u001b[1;34m'location'\u001b[0m\u001b[1;33m}\u001b[0m\u001b[1;33m)\u001b[0m\u001b[1;33m.\u001b[0m\u001b[0mgetText\u001b[0m\u001b[1;33m(\u001b[0m\u001b[1;33m)\u001b[0m\u001b[1;33m\u001b[0m\u001b[0m\n\u001b[0m\u001b[0;32m      3\u001b[0m     \u001b[1;32mprint\u001b[0m \u001b[0muser_location\u001b[0m\u001b[1;33m\u001b[0m\u001b[0m\n",
      "\u001b[1;31mAttributeError\u001b[0m: 'NoneType' object has no attribute 'getText'"
     ]
    }
   ],
   "source": [
    "for r in r0:\n",
    "    user_location = r.find('div', {'class':'location'}).getText()\n",
    "    print user_location"
   ]
  },
  {
   "cell_type": "code",
   "execution_count": 5,
   "metadata": {},
   "outputs": [
    {
     "name": "stdout",
     "output_type": "stream",
     "text": [
      "May 17, 2018\n",
      "May 17, 2018\n",
      "May 17, 2018\n",
      "May 17, 2018\n",
      "May 17, 2018\n",
      "May 17, 2018\n",
      "May 17, 2018\n",
      "May 16, 2018\n",
      "May 16, 2018\n",
      "May 16, 2018\n"
     ]
    }
   ],
   "source": [
    "for r in r0:\n",
    "    review_date = r.find('span', {'class':'ratingDate relativeDate'})['title']\n",
    "    print review_date"
   ]
  },
  {
   "cell_type": "code",
   "execution_count": 4,
   "metadata": {},
   "outputs": [
    {
     "name": "stdout",
     "output_type": "stream",
     "text": [
      "via mobile \n"
     ]
    },
    {
     "ename": "AttributeError",
     "evalue": "'NoneType' object has no attribute 'getText'",
     "output_type": "error",
     "traceback": [
      "\u001b[1;31m---------------------------------------------------------------------------\u001b[0m",
      "\u001b[1;31mAttributeError\u001b[0m                            Traceback (most recent call last)",
      "\u001b[1;32m<ipython-input-4-e6d34d56455c>\u001b[0m in \u001b[0;36m<module>\u001b[1;34m()\u001b[0m\n\u001b[0;32m      1\u001b[0m \u001b[1;32mfor\u001b[0m \u001b[0mr\u001b[0m \u001b[1;32min\u001b[0m \u001b[0mr0\u001b[0m\u001b[1;33m:\u001b[0m\u001b[1;33m\u001b[0m\u001b[0m\n\u001b[1;32m----> 2\u001b[1;33m     \u001b[0mviamobile\u001b[0m \u001b[1;33m=\u001b[0m \u001b[0mr\u001b[0m\u001b[1;33m.\u001b[0m\u001b[0mfind\u001b[0m\u001b[1;33m(\u001b[0m\u001b[1;34m'span'\u001b[0m\u001b[1;33m,\u001b[0m \u001b[1;33m{\u001b[0m\u001b[1;34m'class'\u001b[0m\u001b[1;33m:\u001b[0m\u001b[1;34m'viaMobile'\u001b[0m\u001b[1;33m}\u001b[0m\u001b[1;33m)\u001b[0m\u001b[1;33m.\u001b[0m\u001b[0mgetText\u001b[0m\u001b[1;33m(\u001b[0m\u001b[1;33m)\u001b[0m\u001b[1;33m\u001b[0m\u001b[0m\n\u001b[0m\u001b[0;32m      3\u001b[0m     \u001b[1;32mprint\u001b[0m \u001b[0mviamobile\u001b[0m\u001b[1;33m\u001b[0m\u001b[0m\n",
      "\u001b[1;31mAttributeError\u001b[0m: 'NoneType' object has no attribute 'getText'"
     ]
    }
   ],
   "source": [
    "for r in r0:\n",
    "    viamobile = r.find('span', {'class':'viaMobile'}).getText()\n",
    "    print viamobile"
   ]
  },
  {
   "cell_type": "code",
   "execution_count": 11,
   "metadata": {
    "collapsed": true
   },
   "outputs": [],
   "source": [
    "langs = soup.find('ul', {'class':'langs'})"
   ]
  },
  {
   "cell_type": "code",
   "execution_count": 27,
   "metadata": {
    "collapsed": true
   },
   "outputs": [],
   "source": [
    "l0 = langs.find_all('label', {'class':'filterLabel'})\n",
    "lang = []\n",
    "for l in l0:\n",
    "    lang.append(l.getText()) \n",
    "languages = '; '.join(lang)"
   ]
  },
  {
   "cell_type": "code",
   "execution_count": 10,
   "metadata": {},
   "outputs": [
    {
     "name": "stdout",
     "output_type": "stream",
     "text": [
      "/ShowUserReviews-g186338-d187556-r580905107-V_A_Victoria_and_Albert_Museum-London_England.html\n",
      "/ShowUserReviews-g186338-d187556-r580898069-V_A_Victoria_and_Albert_Museum-London_England.html\n",
      "/ShowUserReviews-g186338-d187556-r580893190-V_A_Victoria_and_Albert_Museum-London_England.html\n",
      "/ShowUserReviews-g186338-d187556-r580851859-V_A_Victoria_and_Albert_Museum-London_England.html\n",
      "/ShowUserReviews-g186338-d187556-r580851807-V_A_Victoria_and_Albert_Museum-London_England.html\n",
      "/ShowUserReviews-g186338-d187556-r580819700-V_A_Victoria_and_Albert_Museum-London_England.html\n",
      "/ShowUserReviews-g186338-d187556-r580789127-V_A_Victoria_and_Albert_Museum-London_England.html\n",
      "/ShowUserReviews-g186338-d187556-r580735526-V_A_Victoria_and_Albert_Museum-London_England.html\n",
      "/ShowUserReviews-g186338-d187556-r580718612-V_A_Victoria_and_Albert_Museum-London_England.html\n",
      "/ShowUserReviews-g186338-d187556-r580711910-V_A_Victoria_and_Albert_Museum-London_England.html\n"
     ]
    }
   ],
   "source": [
    "for r in r0:\n",
    "    review_date = r.find('span', {'class':'noQuotes'}).previous['href']\n",
    "    print review_date"
   ]
  },
  {
   "cell_type": "code",
   "execution_count": 11,
   "metadata": {
    "collapsed": true
   },
   "outputs": [],
   "source": [
    "for x in []:\n",
    "    print x"
   ]
  },
  {
   "cell_type": "code",
   "execution_count": 14,
   "metadata": {},
   "outputs": [
    {
     "data": {
      "text/plain": [
       "[]"
      ]
     },
     "execution_count": 14,
     "metadata": {},
     "output_type": "execute_result"
    }
   ],
   "source": [
    "soup.find_all('div', {'class':'reviewSelector'})"
   ]
  },
  {
   "cell_type": "code",
   "execution_count": null,
   "metadata": {
    "collapsed": true
   },
   "outputs": [],
   "source": []
  }
 ],
 "metadata": {
  "kernelspec": {
   "display_name": "Python 2",
   "language": "python",
   "name": "python2"
  },
  "language_info": {
   "codemirror_mode": {
    "name": "ipython",
    "version": 2
   },
   "file_extension": ".py",
   "mimetype": "text/x-python",
   "name": "python",
   "nbconvert_exporter": "python",
   "pygments_lexer": "ipython2",
   "version": "2.7.13"
  }
 },
 "nbformat": 4,
 "nbformat_minor": 2
}
