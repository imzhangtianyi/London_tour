{
 "cells": [
  {
   "cell_type": "code",
   "execution_count": 1,
   "metadata": {},
   "outputs": [],
   "source": [
    "import pandas as pd\n",
    "df = pd.read_pickle('reviews0')"
   ]
  },
  {
   "cell_type": "code",
   "execution_count": 26,
   "metadata": {},
   "outputs": [],
   "source": [
    "atmindex = df.loc[df.userID == 'A TripAdvisor Member'].index\n",
    "for i in atmindex:\n",
    "    df.iloc[i,1] = 'A TripAdvisor Member {}'.format(i)"
   ]
  },
  {
   "cell_type": "code",
   "execution_count": 39,
   "metadata": {},
   "outputs": [],
   "source": [
    "t.to_pickle('reviews1.pkl')"
   ]
  },
  {
   "cell_type": "code",
   "execution_count": 29,
   "metadata": {},
   "outputs": [
    {
     "data": {
      "text/html": [
       "<div>\n",
       "<style scoped>\n",
       "    .dataframe tbody tr th:only-of-type {\n",
       "        vertical-align: middle;\n",
       "    }\n",
       "\n",
       "    .dataframe tbody tr th {\n",
       "        vertical-align: top;\n",
       "    }\n",
       "\n",
       "    .dataframe thead th {\n",
       "        text-align: right;\n",
       "    }\n",
       "</style>\n",
       "<table border=\"1\" class=\"dataframe\">\n",
       "  <thead>\n",
       "    <tr style=\"text-align: right;\">\n",
       "      <th></th>\n",
       "      <th>num</th>\n",
       "      <th>userID</th>\n",
       "      <th>attraction</th>\n",
       "      <th>user_rating</th>\n",
       "      <th>user_location</th>\n",
       "      <th>user_contributions</th>\n",
       "      <th>user_upvotes</th>\n",
       "      <th>viamobile</th>\n",
       "      <th>review_quote</th>\n",
       "      <th>review_content</th>\n",
       "      <th>review_link</th>\n",
       "    </tr>\n",
       "  </thead>\n",
       "  <tbody>\n",
       "    <tr>\n",
       "      <th>0</th>\n",
       "      <td>1</td>\n",
       "      <td>Jayne H</td>\n",
       "      <td>National Gallery</td>\n",
       "      <td>50</td>\n",
       "      <td>Doylestown, Pennsylvania</td>\n",
       "      <td>232</td>\n",
       "      <td>73</td>\n",
       "      <td>via mobile</td>\n",
       "      <td>Special exhibit</td>\n",
       "      <td>While this museum is one of the best free thin...</td>\n",
       "      <td>/ShowUserReviews-g186338-d188862-r580914226-Na...</td>\n",
       "    </tr>\n",
       "    <tr>\n",
       "      <th>1</th>\n",
       "      <td>2</td>\n",
       "      <td>dbaizel</td>\n",
       "      <td>National Gallery</td>\n",
       "      <td>50</td>\n",
       "      <td>Willoughby, Ohio</td>\n",
       "      <td>70</td>\n",
       "      <td>13</td>\n",
       "      <td>no</td>\n",
       "      <td>Fantastic and Free</td>\n",
       "      <td>This is a wonderful Gallery that, after 3 hour...</td>\n",
       "      <td>/ShowUserReviews-g186338-d188862-r580880609-Na...</td>\n",
       "    </tr>\n",
       "    <tr>\n",
       "      <th>2</th>\n",
       "      <td>3</td>\n",
       "      <td>jafarisoheil</td>\n",
       "      <td>National Gallery</td>\n",
       "      <td>40</td>\n",
       "      <td>Milton Keynes, United Kingdom</td>\n",
       "      <td>57</td>\n",
       "      <td>2</td>\n",
       "      <td>via mobile</td>\n",
       "      <td>Must see</td>\n",
       "      <td>The entrance is free. Located in trafalgar squ...</td>\n",
       "      <td>/ShowUserReviews-g186338-d188862-r580835149-Na...</td>\n",
       "    </tr>\n",
       "    <tr>\n",
       "      <th>3</th>\n",
       "      <td>4</td>\n",
       "      <td>JoMac110</td>\n",
       "      <td>National Gallery</td>\n",
       "      <td>30</td>\n",
       "      <td>Northampton, UK</td>\n",
       "      <td>58</td>\n",
       "      <td>37</td>\n",
       "      <td>no</td>\n",
       "      <td>LOvely exhibition, but very busy</td>\n",
       "      <td>Visited yesterday to see the Monet exhibition....</td>\n",
       "      <td>/ShowUserReviews-g186338-d188862-r580790648-Na...</td>\n",
       "    </tr>\n",
       "    <tr>\n",
       "      <th>4</th>\n",
       "      <td>5</td>\n",
       "      <td>Kuroshitsuji I</td>\n",
       "      <td>National Gallery</td>\n",
       "      <td>50</td>\n",
       "      <td>missing</td>\n",
       "      <td>8</td>\n",
       "      <td>1</td>\n",
       "      <td>via mobile</td>\n",
       "      <td>Outstanding</td>\n",
       "      <td>It was amazing. Lots of things to see. Tons of...</td>\n",
       "      <td>/ShowUserReviews-g186338-d188862-r580788964-Na...</td>\n",
       "    </tr>\n",
       "  </tbody>\n",
       "</table>\n",
       "</div>"
      ],
      "text/plain": [
       "   num          userID        attraction user_rating  \\\n",
       "0    1         Jayne H  National Gallery          50   \n",
       "1    2         dbaizel  National Gallery          50   \n",
       "2    3    jafarisoheil  National Gallery          40   \n",
       "3    4        JoMac110  National Gallery          30   \n",
       "4    5  Kuroshitsuji I  National Gallery          50   \n",
       "\n",
       "                   user_location user_contributions user_upvotes    viamobile  \\\n",
       "0       Doylestown, Pennsylvania                232           73  via mobile    \n",
       "1               Willoughby, Ohio                 70           13           no   \n",
       "2  Milton Keynes, United Kingdom                 57            2  via mobile    \n",
       "3                Northampton, UK                 58           37           no   \n",
       "4                        missing                  8            1  via mobile    \n",
       "\n",
       "                       review_quote  \\\n",
       "0                   Special exhibit   \n",
       "1                Fantastic and Free   \n",
       "2                          Must see   \n",
       "3  LOvely exhibition, but very busy   \n",
       "4                       Outstanding   \n",
       "\n",
       "                                      review_content  \\\n",
       "0  While this museum is one of the best free thin...   \n",
       "1  This is a wonderful Gallery that, after 3 hour...   \n",
       "2  The entrance is free. Located in trafalgar squ...   \n",
       "3  Visited yesterday to see the Monet exhibition....   \n",
       "4  It was amazing. Lots of things to see. Tons of...   \n",
       "\n",
       "                                         review_link  \n",
       "0  /ShowUserReviews-g186338-d188862-r580914226-Na...  \n",
       "1  /ShowUserReviews-g186338-d188862-r580880609-Na...  \n",
       "2  /ShowUserReviews-g186338-d188862-r580835149-Na...  \n",
       "3  /ShowUserReviews-g186338-d188862-r580790648-Na...  \n",
       "4  /ShowUserReviews-g186338-d188862-r580788964-Na...  "
      ]
     },
     "execution_count": 29,
     "metadata": {},
     "output_type": "execute_result"
    }
   ],
   "source": [
    "df.head()\n"
   ]
  },
  {
   "cell_type": "code",
   "execution_count": 41,
   "metadata": {},
   "outputs": [],
   "source": [
    "a = t[0:100]"
   ]
  },
  {
   "cell_type": "code",
   "execution_count": 44,
   "metadata": {},
   "outputs": [],
   "source": [
    "top1 = a.attraction.value_counts()"
   ]
  },
  {
   "cell_type": "code",
   "execution_count": 47,
   "metadata": {},
   "outputs": [],
   "source": [
    "import matplotlib.pyplot as plt\n",
    "%matplotlib inline"
   ]
  },
  {
   "cell_type": "code",
   "execution_count": 50,
   "metadata": {},
   "outputs": [],
   "source": [
    "ttt = top1[:10]"
   ]
  },
  {
   "cell_type": "code",
   "execution_count": 51,
   "metadata": {},
   "outputs": [
    {
     "data": {
      "text/plain": [
       "<matplotlib.axes._subplots.AxesSubplot at 0x4d290940>"
      ]
     },
     "execution_count": 51,
     "metadata": {},
     "output_type": "execute_result"
    },
    {
     "data": {
      "image/png": "[encoded data removed]",
      "text/plain": [
       "<matplotlib.figure.Figure at 0x6137c5c0>"
      ]
     },
     "metadata": {},
     "output_type": "display_data"
    }
   ],
   "source": [
    "ttt.plot(kind='bar')"
   ]
  },
  {
   "cell_type": "code",
   "execution_count": null,
   "metadata": {},
   "outputs": [],
   "source": []
  }
 ],
 "metadata": {
  "kernelspec": {
   "display_name": "Python 2",
   "language": "python",
   "name": "python2"
  },
  "language_info": {
   "codemirror_mode": {
    "name": "ipython",
    "version": 2
   },
   "file_extension": ".py",
   "mimetype": "text/x-python",
   "name": "python",
   "nbconvert_exporter": "python",
   "pygments_lexer": "ipython2",
   "version": "2.7.14"
  }
 },
 "nbformat": 4,
 "nbformat_minor": 2
}
