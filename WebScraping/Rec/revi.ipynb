{
 "cells": [
  {
   "cell_type": "code",
   "execution_count": 1,
   "metadata": {},
   "outputs": [],
   "source": [
    "import pandas as pd\n",
    "df = pd.read_pickle('reviews0')"
   ]
  },
  {
   "cell_type": "code",
   "execution_count": 2,
   "metadata": {},
   "outputs": [
    {
     "data": {
      "text/html": [
       "<div>\n",
       "<style scoped>\n",
       "    .dataframe tbody tr th:only-of-type {\n",
       "        vertical-align: middle;\n",
       "    }\n",
       "\n",
       "    .dataframe tbody tr th {\n",
       "        vertical-align: top;\n",
       "    }\n",
       "\n",
       "    .dataframe thead th {\n",
       "        text-align: right;\n",
       "    }\n",
       "</style>\n",
       "<table border=\"1\" class=\"dataframe\">\n",
       "  <thead>\n",
       "    <tr style=\"text-align: right;\">\n",
       "      <th></th>\n",
       "      <th>num</th>\n",
       "      <th>userID</th>\n",
       "      <th>attraction</th>\n",
       "      <th>user_rating</th>\n",
       "      <th>user_location</th>\n",
       "      <th>user_contributions</th>\n",
       "      <th>user_upvotes</th>\n",
       "      <th>viamobile</th>\n",
       "      <th>review_quote</th>\n",
       "      <th>review_content</th>\n",
       "      <th>review_link</th>\n",
       "    </tr>\n",
       "  </thead>\n",
       "  <tbody>\n",
       "    <tr>\n",
       "      <th>0</th>\n",
       "      <td>1</td>\n",
       "      <td>Jayne H</td>\n",
       "      <td>National Gallery</td>\n",
       "      <td>50</td>\n",
       "      <td>Doylestown, Pennsylvania</td>\n",
       "      <td>232</td>\n",
       "      <td>73</td>\n",
       "      <td>via mobile</td>\n",
       "      <td>Special exhibit</td>\n",
       "      <td>While this museum is one of the best free thin...</td>\n",
       "      <td>/ShowUserReviews-g186338-d188862-r580914226-Na...</td>\n",
       "    </tr>\n",
       "    <tr>\n",
       "      <th>1</th>\n",
       "      <td>2</td>\n",
       "      <td>dbaizel</td>\n",
       "      <td>National Gallery</td>\n",
       "      <td>50</td>\n",
       "      <td>Willoughby, Ohio</td>\n",
       "      <td>70</td>\n",
       "      <td>13</td>\n",
       "      <td>no</td>\n",
       "      <td>Fantastic and Free</td>\n",
       "      <td>This is a wonderful Gallery that, after 3 hour...</td>\n",
       "      <td>/ShowUserReviews-g186338-d188862-r580880609-Na...</td>\n",
       "    </tr>\n",
       "    <tr>\n",
       "      <th>2</th>\n",
       "      <td>3</td>\n",
       "      <td>jafarisoheil</td>\n",
       "      <td>National Gallery</td>\n",
       "      <td>40</td>\n",
       "      <td>Milton Keynes, United Kingdom</td>\n",
       "      <td>57</td>\n",
       "      <td>2</td>\n",
       "      <td>via mobile</td>\n",
       "      <td>Must see</td>\n",
       "      <td>The entrance is free. Located in trafalgar squ...</td>\n",
       "      <td>/ShowUserReviews-g186338-d188862-r580835149-Na...</td>\n",
       "    </tr>\n",
       "    <tr>\n",
       "      <th>3</th>\n",
       "      <td>4</td>\n",
       "      <td>JoMac110</td>\n",
       "      <td>National Gallery</td>\n",
       "      <td>30</td>\n",
       "      <td>Northampton, UK</td>\n",
       "      <td>58</td>\n",
       "      <td>37</td>\n",
       "      <td>no</td>\n",
       "      <td>LOvely exhibition, but very busy</td>\n",
       "      <td>Visited yesterday to see the Monet exhibition....</td>\n",
       "      <td>/ShowUserReviews-g186338-d188862-r580790648-Na...</td>\n",
       "    </tr>\n",
       "    <tr>\n",
       "      <th>4</th>\n",
       "      <td>5</td>\n",
       "      <td>Kuroshitsuji I</td>\n",
       "      <td>National Gallery</td>\n",
       "      <td>50</td>\n",
       "      <td>missing</td>\n",
       "      <td>8</td>\n",
       "      <td>1</td>\n",
       "      <td>via mobile</td>\n",
       "      <td>Outstanding</td>\n",
       "      <td>It was amazing. Lots of things to see. Tons of...</td>\n",
       "      <td>/ShowUserReviews-g186338-d188862-r580788964-Na...</td>\n",
       "    </tr>\n",
       "  </tbody>\n",
       "</table>\n",
       "</div>"
      ],
      "text/plain": [
       "   num          userID        attraction user_rating  \\\n",
       "0    1         Jayne H  National Gallery          50   \n",
       "1    2         dbaizel  National Gallery          50   \n",
       "2    3    jafarisoheil  National Gallery          40   \n",
       "3    4        JoMac110  National Gallery          30   \n",
       "4    5  Kuroshitsuji I  National Gallery          50   \n",
       "\n",
       "                   user_location user_contributions user_upvotes    viamobile  \\\n",
       "0       Doylestown, Pennsylvania                232           73  via mobile    \n",
       "1               Willoughby, Ohio                 70           13           no   \n",
       "2  Milton Keynes, United Kingdom                 57            2  via mobile    \n",
       "3                Northampton, UK                 58           37           no   \n",
       "4                        missing                  8            1  via mobile    \n",
       "\n",
       "                       review_quote  \\\n",
       "0                   Special exhibit   \n",
       "1                Fantastic and Free   \n",
       "2                          Must see   \n",
       "3  LOvely exhibition, but very busy   \n",
       "4                       Outstanding   \n",
       "\n",
       "                                      review_content  \\\n",
       "0  While this museum is one of the best free thin...   \n",
       "1  This is a wonderful Gallery that, after 3 hour...   \n",
       "2  The entrance is free. Located in trafalgar squ...   \n",
       "3  Visited yesterday to see the Monet exhibition....   \n",
       "4  It was amazing. Lots of things to see. Tons of...   \n",
       "\n",
       "                                         review_link  \n",
       "0  /ShowUserReviews-g186338-d188862-r580914226-Na...  \n",
       "1  /ShowUserReviews-g186338-d188862-r580880609-Na...  \n",
       "2  /ShowUserReviews-g186338-d188862-r580835149-Na...  \n",
       "3  /ShowUserReviews-g186338-d188862-r580790648-Na...  \n",
       "4  /ShowUserReviews-g186338-d188862-r580788964-Na...  "
      ]
     },
     "execution_count": 2,
     "metadata": {},
     "output_type": "execute_result"
    }
   ],
   "source": [
    "df.head()"
   ]
  },
  {
   "cell_type": "code",
   "execution_count": 5,
   "metadata": {},
   "outputs": [
    {
     "data": {
      "text/plain": [
       "116322"
      ]
     },
     "execution_count": 5,
     "metadata": {},
     "output_type": "execute_result"
    }
   ],
   "source": [
    "sum(df.userID.value_counts() == 1)"
   ]
  },
  {
   "cell_type": "code",
   "execution_count": 7,
   "metadata": {
    "collapsed": true
   },
   "outputs": [],
   "source": [
    "a = df.user_location[0]"
   ]
  },
  {
   "cell_type": "code",
   "execution_count": 3,
   "metadata": {
    "collapsed": true
   },
   "outputs": [],
   "source": [
    "def lastloc(a):\n",
    "    return a.split(', ')[-1]"
   ]
  },
  {
   "cell_type": "code",
   "execution_count": 4,
   "metadata": {
    "collapsed": true
   },
   "outputs": [],
   "source": [
    "df['loca'] = df.user_location.apply(lastloc)"
   ]
  },
  {
   "cell_type": "code",
   "execution_count": 5,
   "metadata": {},
   "outputs": [
    {
     "data": {
      "text/html": [
       "<div>\n",
       "<style>\n",
       "    .dataframe thead tr:only-child th {\n",
       "        text-align: right;\n",
       "    }\n",
       "\n",
       "    .dataframe thead th {\n",
       "        text-align: left;\n",
       "    }\n",
       "\n",
       "    .dataframe tbody tr th {\n",
       "        vertical-align: top;\n",
       "    }\n",
       "</style>\n",
       "<table border=\"1\" class=\"dataframe\">\n",
       "  <thead>\n",
       "    <tr style=\"text-align: right;\">\n",
       "      <th></th>\n",
       "      <th>num</th>\n",
       "      <th>userID</th>\n",
       "      <th>attraction</th>\n",
       "      <th>user_rating</th>\n",
       "      <th>user_location</th>\n",
       "      <th>user_contributions</th>\n",
       "      <th>user_upvotes</th>\n",
       "      <th>viamobile</th>\n",
       "      <th>review_quote</th>\n",
       "      <th>review_content</th>\n",
       "      <th>review_link</th>\n",
       "      <th>loca</th>\n",
       "    </tr>\n",
       "  </thead>\n",
       "  <tbody>\n",
       "    <tr>\n",
       "      <th>0</th>\n",
       "      <td>1</td>\n",
       "      <td>Jayne H</td>\n",
       "      <td>National Gallery</td>\n",
       "      <td>50</td>\n",
       "      <td>Doylestown, Pennsylvania</td>\n",
       "      <td>232</td>\n",
       "      <td>73</td>\n",
       "      <td>via mobile</td>\n",
       "      <td>Special exhibit</td>\n",
       "      <td>While this museum is one of the best free thin...</td>\n",
       "      <td>/ShowUserReviews-g186338-d188862-r580914226-Na...</td>\n",
       "      <td>Pennsylvania</td>\n",
       "    </tr>\n",
       "    <tr>\n",
       "      <th>1</th>\n",
       "      <td>2</td>\n",
       "      <td>dbaizel</td>\n",
       "      <td>National Gallery</td>\n",
       "      <td>50</td>\n",
       "      <td>Willoughby, Ohio</td>\n",
       "      <td>70</td>\n",
       "      <td>13</td>\n",
       "      <td>no</td>\n",
       "      <td>Fantastic and Free</td>\n",
       "      <td>This is a wonderful Gallery that, after 3 hour...</td>\n",
       "      <td>/ShowUserReviews-g186338-d188862-r580880609-Na...</td>\n",
       "      <td>Ohio</td>\n",
       "    </tr>\n",
       "    <tr>\n",
       "      <th>2</th>\n",
       "      <td>3</td>\n",
       "      <td>jafarisoheil</td>\n",
       "      <td>National Gallery</td>\n",
       "      <td>40</td>\n",
       "      <td>Milton Keynes, United Kingdom</td>\n",
       "      <td>57</td>\n",
       "      <td>2</td>\n",
       "      <td>via mobile</td>\n",
       "      <td>Must see</td>\n",
       "      <td>The entrance is free. Located in trafalgar squ...</td>\n",
       "      <td>/ShowUserReviews-g186338-d188862-r580835149-Na...</td>\n",
       "      <td>United Kingdom</td>\n",
       "    </tr>\n",
       "    <tr>\n",
       "      <th>3</th>\n",
       "      <td>4</td>\n",
       "      <td>JoMac110</td>\n",
       "      <td>National Gallery</td>\n",
       "      <td>30</td>\n",
       "      <td>Northampton, UK</td>\n",
       "      <td>58</td>\n",
       "      <td>37</td>\n",
       "      <td>no</td>\n",
       "      <td>LOvely exhibition, but very busy</td>\n",
       "      <td>Visited yesterday to see the Monet exhibition....</td>\n",
       "      <td>/ShowUserReviews-g186338-d188862-r580790648-Na...</td>\n",
       "      <td>UK</td>\n",
       "    </tr>\n",
       "    <tr>\n",
       "      <th>4</th>\n",
       "      <td>5</td>\n",
       "      <td>Kuroshitsuji I</td>\n",
       "      <td>National Gallery</td>\n",
       "      <td>50</td>\n",
       "      <td>missing</td>\n",
       "      <td>8</td>\n",
       "      <td>1</td>\n",
       "      <td>via mobile</td>\n",
       "      <td>Outstanding</td>\n",
       "      <td>It was amazing. Lots of things to see. Tons of...</td>\n",
       "      <td>/ShowUserReviews-g186338-d188862-r580788964-Na...</td>\n",
       "      <td>missing</td>\n",
       "    </tr>\n",
       "  </tbody>\n",
       "</table>\n",
       "</div>"
      ],
      "text/plain": [
       "   num          userID        attraction user_rating  \\\n",
       "0    1         Jayne H  National Gallery          50   \n",
       "1    2         dbaizel  National Gallery          50   \n",
       "2    3    jafarisoheil  National Gallery          40   \n",
       "3    4        JoMac110  National Gallery          30   \n",
       "4    5  Kuroshitsuji I  National Gallery          50   \n",
       "\n",
       "                   user_location user_contributions user_upvotes    viamobile  \\\n",
       "0       Doylestown, Pennsylvania                232           73  via mobile    \n",
       "1               Willoughby, Ohio                 70           13           no   \n",
       "2  Milton Keynes, United Kingdom                 57            2  via mobile    \n",
       "3                Northampton, UK                 58           37           no   \n",
       "4                        missing                  8            1  via mobile    \n",
       "\n",
       "                       review_quote  \\\n",
       "0                   Special exhibit   \n",
       "1                Fantastic and Free   \n",
       "2                          Must see   \n",
       "3  LOvely exhibition, but very busy   \n",
       "4                       Outstanding   \n",
       "\n",
       "                                      review_content  \\\n",
       "0  While this museum is one of the best free thin...   \n",
       "1  This is a wonderful Gallery that, after 3 hour...   \n",
       "2  The entrance is free. Located in trafalgar squ...   \n",
       "3  Visited yesterday to see the Monet exhibition....   \n",
       "4  It was amazing. Lots of things to see. Tons of...   \n",
       "\n",
       "                                         review_link            loca  \n",
       "0  /ShowUserReviews-g186338-d188862-r580914226-Na...    Pennsylvania  \n",
       "1  /ShowUserReviews-g186338-d188862-r580880609-Na...            Ohio  \n",
       "2  /ShowUserReviews-g186338-d188862-r580835149-Na...  United Kingdom  \n",
       "3  /ShowUserReviews-g186338-d188862-r580790648-Na...              UK  \n",
       "4  /ShowUserReviews-g186338-d188862-r580788964-Na...         missing  "
      ]
     },
     "execution_count": 5,
     "metadata": {},
     "output_type": "execute_result"
    }
   ],
   "source": [
    "df.head()"
   ]
  },
  {
   "cell_type": "code",
   "execution_count": 6,
   "metadata": {
    "collapsed": true
   },
   "outputs": [],
   "source": [
    "states = [\"Alabama\",\"Alaska\",\"Arizona\",\"Arkansas\",\"California\",\"Colorado\",\n",
    "  \"Connecticut\",\"Delaware\",\"Florida\",\"Georgia\",\"Hawaii\",\"Idaho\",\"Illinois\",\n",
    "  \"Indiana\",\"Iowa\",\"Kansas\",\"Kentucky\",\"Louisiana\",\"Maine\",\"Maryland\",\n",
    "  \"Massachusetts\",\"Michigan\",\"Minnesota\",\"Mississippi\",\"Missouri\",\"Montana\",\n",
    "  \"Nebraska\",\"Nevada\",\"New Hampshire\",\"New Jersey\",\"New Mexico\",\"New York\",\n",
    "  \"North Carolina\",\"North Dakota\",\"Ohio\",\"Oklahoma\",\"Oregon\",\"Pennsylvania\",\n",
    "  \"Rhode Island\",\"South Carolina\",\"South Dakota\",\"Tennessee\",\"Texas\",\"Utah\",\n",
    "  \"Vermont\",\"Virginia\",\"Washington\",\"West Virginia\",\"Wisconsin\",\"Wyoming\",\"AL\", \"AK\", \"AZ\", \"AR\", \"CA\", \"CO\", \"CT\", \"DC\", \"DE\", \"FL\", \"GA\", \n",
    "          \"HI\", \"ID\", \"IL\", \"IN\", \"IA\", \"KS\", \"KY\", \"LA\", \"ME\", \"MD\", \n",
    "          \"MA\", \"MI\", \"MN\", \"MS\", \"MO\", \"MT\", \"NE\", \"NV\", \"NH\", \"NJ\", \n",
    "          \"NM\", \"NY\", \"NC\", \"ND\", \"OH\", \"OK\", \"OR\", \"PA\", \"RI\", \"SC\", \n",
    "          \"SD\", \"TN\", \"TX\", \"UT\", \"VT\", \"VA\", \"WA\", \"WV\", \"WI\", \"WY\",'United States','us','usa','u.s.','New York City', 'Los Angeles', 'Chicago', 'Houston', 'Philadelphia',\n",
    "       'Phoenix', 'San Antonio', 'San Diego', 'Dallas', 'San Jose',\n",
    "       'Austin', 'Jacksonville', 'San Francisco', 'Indianapolis',\n",
    "       'Columbus', 'Fort Worth', 'Charlotte', 'Seattle', 'Denver',\n",
    "       'El Paso', 'Detroit', 'Washington', 'Boston', 'Memphis',\n",
    "       'Nashville', 'Portland, Ore.', 'Oklahoma City', 'Las Vegas',\n",
    "       'Baltimore', 'Louisville', 'Milwaukee', 'Albuquerque', 'Tucson',\n",
    "       'Fresno', 'Sacramento', 'Kansas City', 'Long Beach', 'Mesa',\n",
    "       'Atlanta', 'Colorado Springs', 'Virginia Beach', 'Raleigh', 'Omaha',\n",
    "       'Miami', 'Oakland', 'Minneapolis', 'Tulsa', 'Wichita',\n",
    "       'New Orleans', 'Arlington']\n",
    "\n",
    "states = map(lambda x: x.lower(), states)\n",
    "def isusa(s):\n",
    "    if s.lower() in states:\n",
    "        return 'USA'\n",
    "    else:\n",
    "        return s"
   ]
  },
  {
   "cell_type": "code",
   "execution_count": 7,
   "metadata": {
    "collapsed": true
   },
   "outputs": [],
   "source": [
    "uk = ['Bedfordshire', 'Buckinghamshire', 'Cambridgeshire', 'Cheshire',\n",
    "       'Cleveland', 'Cornwall', 'Cumbria', 'Derbyshire', 'Devon', 'Dorset',\n",
    "       'Durham', 'East Sussex', 'Essex', 'Gloucestershire',\n",
    "       'Greater London', 'Greater Manchester', 'Hampshire',\n",
    "       'Hertfordshire', 'Kent', 'Lancashire', 'Leicestershire',\n",
    "       'Lincolnshire', 'Merseyside', 'Norfolk', 'North Yorkshire',\n",
    "       'Northamptonshire', 'Northumberland', 'Nottinghamshire',\n",
    "       'Oxfordshire', 'Shropshire', 'Somerset', 'South Yorkshire',\n",
    "       'Staffordshire', 'Suffolk', 'Surrey', 'Tyne and Wear',\n",
    "       'Warwickshire', 'West Berkshire', 'West Midlands', 'West Sussex',\n",
    "       'West Yorkshire', 'Wiltshire', 'Worcestershire', 'Flintshire',\n",
    "       'Glamorgan', 'Merionethshire', 'Monmouthshire', 'Montgomeryshire',\n",
    "       'Pembrokeshire', 'Radnorshire', 'Anglesey', 'Breconshire',\n",
    "       'Caernarvonshire', 'Cardiganshire', 'Carmarthenshire',\n",
    "       'Denbighshire', 'Aberdeen City', 'Aberdeenshire', 'Angus',\n",
    "       'Argyll and Bute', 'City of Edinburgh', 'Clackmannanshire',\n",
    "       'Dumfries and Galloway', 'Dundee City', 'East Ayrshire',\n",
    "       'East Dunbartonshire', 'East Lothian', 'East Renfrewshire',\n",
    "       'Eilean Siar', 'Falkirk', 'Fife', 'Glasgow City', 'Highland',\n",
    "       'Inverclyde', 'Midlothian', 'Moray', 'North Ayrshire',\n",
    "       'North Lanarkshire', 'Orkney Islands', 'Perth and Kinross',\n",
    "       'Renfrewshire', 'Scottish Borders', 'Shetland Islands',\n",
    "       'South Ayrshire', 'South Lanarkshire', 'Stirling',\n",
    "       'West Dunbartonshire', 'West Lothian', 'Antrim', 'Armagh', 'Down',\n",
    "       'Fermanagh', 'Derry and Londonderry', 'Tyrone', 'Oxford', 'Yorkshire', 'United Kingdom', 'uk', 'u.k.', 'england','London', 'Birmingham', 'Leeds', 'Glasgow', 'Sheffield', 'Bradford',\n",
    "       'Liverpool', 'Edinburgh', 'Manchester', 'Bristol', 'Kirklees',\n",
    "       'Fife', 'Wirral', 'North Lanarkshire', 'Wakefield', 'Cardiff',\n",
    "       'Dudley', 'Wigan', 'East Riding', 'South Lanarkshire', 'Coventry',\n",
    "       'Belfast', 'Leicester', 'Sunderland', 'Sandwell', 'Doncaster',\n",
    "       'Stockport', 'Sefton', 'Nottingham']\n",
    "\n",
    "uk = map(lambda x: x.lower(), uk)\n",
    "def isuk(s):\n",
    "    if s.lower() in uk:\n",
    "        return 'UK'\n",
    "    else:\n",
    "        return s"
   ]
  },
  {
   "cell_type": "code",
   "execution_count": 13,
   "metadata": {
    "collapsed": true
   },
   "outputs": [],
   "source": [
    "def islondon(s):\n",
    "    if 'london' in s.lower():\n",
    "        return 'London'\n",
    "    else:\n",
    "        return s"
   ]
  },
  {
   "cell_type": "code",
   "execution_count": 12,
   "metadata": {},
   "outputs": [
    {
     "data": {
      "text/plain": [
       "12407"
      ]
     },
     "execution_count": 12,
     "metadata": {},
     "output_type": "execute_result"
    }
   ],
   "source": [
    "userloc.loca.apply(lambda x: 'london' in x.lower()).sum()"
   ]
  },
  {
   "cell_type": "code",
   "execution_count": 14,
   "metadata": {},
   "outputs": [],
   "source": [
    "userloc['country'] = userloc.loca.apply(islondon)"
   ]
  },
  {
   "cell_type": "code",
   "execution_count": 16,
   "metadata": {},
   "outputs": [],
   "source": [
    "userloc['country'] = userloc.loca.apply(isuk)"
   ]
  },
  {
   "cell_type": "code",
   "execution_count": 19,
   "metadata": {},
   "outputs": [],
   "source": [
    "userloc['country'] = userloc.country.apply(isusa)"
   ]
  },
  {
   "cell_type": "code",
   "execution_count": 22,
   "metadata": {
    "collapsed": true
   },
   "outputs": [],
   "source": [
    "userinfo = pd.DataFrame(data=df.userID.unique(),)"
   ]
  },
  {
   "cell_type": "code",
   "execution_count": 39,
   "metadata": {
    "scrolled": true
   },
   "outputs": [],
   "source": [
    "userinfo = userinfo.sort_values(0).set_index(0)"
   ]
  },
  {
   "cell_type": "code",
   "execution_count": 53,
   "metadata": {},
   "outputs": [],
   "source": [
    "a = userinfo.join(userloc.set_index('userID'),how='outer').drop_duplicates()"
   ]
  },
  {
   "cell_type": "code",
   "execution_count": 61,
   "metadata": {},
   "outputs": [],
   "source": [
    "a.join(df.userID.value_counts())"
   ]
  },
  {
   "cell_type": "code",
   "execution_count": 64,
   "metadata": {},
   "outputs": [],
   "source": [
    "rating = df[['userID','attraction','user_rating']]"
   ]
  },
  {
   "cell_type": "code",
   "execution_count": 67,
   "metadata": {},
   "outputs": [],
   "source": [
    "from sklearn.preprocessing import LabelEncoder"
   ]
  },
  {
   "cell_type": "code",
   "execution_count": 68,
   "metadata": {
    "collapsed": true
   },
   "outputs": [],
   "source": [
    "le = LabelEncoder()"
   ]
  },
  {
   "cell_type": "code",
   "execution_count": 95,
   "metadata": {},
   "outputs": [],
   "source": [
    "tr = pd.DataFrame()"
   ]
  },
  {
   "cell_type": "code",
   "execution_count": 97,
   "metadata": {},
   "outputs": [],
   "source": [
    "tr['userID'] = le.fit_transform(rating.userID)"
   ]
  },
  {
   "cell_type": "code",
   "execution_count": 99,
   "metadata": {},
   "outputs": [],
   "source": [
    "tr['attraction'] = le.fit_transform(rating.attraction)"
   ]
  },
  {
   "cell_type": "code",
   "execution_count": 100,
   "metadata": {
    "collapsed": true
   },
   "outputs": [],
   "source": [
    "tr['rating'] = rating.user_rating.apply(lambda x: int(x[0]))"
   ]
  },
  {
   "cell_type": "code",
   "execution_count": 70,
   "metadata": {
    "scrolled": true
   },
   "outputs": [
    {
     "name": "stderr",
     "output_type": "stream",
     "text": [
      "C:\\Users\\dinsoson\\Anaconda2\\lib\\site-packages\\ipykernel_launcher.py:1: SettingWithCopyWarning: \n",
      "A value is trying to be set on a copy of a slice from a DataFrame.\n",
      "Try using .loc[row_indexer,col_indexer] = value instead\n",
      "\n",
      "See the caveats in the documentation: http://pandas.pydata.org/pandas-docs/stable/indexing.html#indexing-view-versus-copy\n",
      "  \"\"\"Entry point for launching an IPython kernel.\n"
     ]
    }
   ],
   "source": [
    "rating['userID'] = le.fit_transform(rating.userID)"
   ]
  },
  {
   "cell_type": "code",
   "execution_count": 81,
   "metadata": {},
   "outputs": [
    {
     "name": "stderr",
     "output_type": "stream",
     "text": [
      "C:\\Users\\dinsoson\\Anaconda2\\lib\\site-packages\\ipykernel_launcher.py:1: SettingWithCopyWarning: \n",
      "A value is trying to be set on a copy of a slice from a DataFrame.\n",
      "Try using .loc[row_indexer,col_indexer] = value instead\n",
      "\n",
      "See the caveats in the documentation: http://pandas.pydata.org/pandas-docs/stable/indexing.html#indexing-view-versus-copy\n",
      "  \"\"\"Entry point for launching an IPython kernel.\n"
     ]
    }
   ],
   "source": [
    "rating['attraction'] = le.fit_transform(rating.attraction)"
   ]
  },
  {
   "cell_type": "code",
   "execution_count": 87,
   "metadata": {},
   "outputs": [
    {
     "name": "stderr",
     "output_type": "stream",
     "text": [
      "C:\\Users\\dinsoson\\Anaconda2\\lib\\site-packages\\ipykernel_launcher.py:1: SettingWithCopyWarning: \n",
      "A value is trying to be set on a copy of a slice from a DataFrame.\n",
      "Try using .loc[row_indexer,col_indexer] = value instead\n",
      "\n",
      "See the caveats in the documentation: http://pandas.pydata.org/pandas-docs/stable/indexing.html#indexing-view-versus-copy\n",
      "  \"\"\"Entry point for launching an IPython kernel.\n"
     ]
    }
   ],
   "source": [
    "tr['user_rating']=tr.user_rating.apply(lambda x: int(x[0]))"
   ]
  },
  {
   "cell_type": "code",
   "execution_count": 89,
   "metadata": {},
   "outputs": [],
   "source": [
    "from surprise import SVD\n",
    "from surprise import Reader\n",
    "from surprise import Dataset\n",
    "from surprise.model_selection import cross_validate"
   ]
  },
  {
   "cell_type": "code",
   "execution_count": 110,
   "metadata": {},
   "outputs": [
    {
     "name": "stdout",
     "output_type": "stream",
     "text": [
      "Wall time: 1.28 s\n"
     ]
    }
   ],
   "source": [
    "%%time\n",
    "data = Dataset.load_from_df(tr, Reader())"
   ]
  },
  {
   "cell_type": "code",
   "execution_count": 113,
   "metadata": {},
   "outputs": [
    {
     "name": "stdout",
     "output_type": "stream",
     "text": [
      "Evaluating RMSE, MAE of algorithm SVD on 5 split(s).\n",
      "\n",
      "                  Fold 1  Fold 2  Fold 3  Fold 4  Fold 5  Mean    Std     \n",
      "MAE (testset)     0.6339  0.6349  0.6355  0.6363  0.6291  0.6340  0.0025  \n",
      "RMSE (testset)    0.8370  0.8363  0.8405  0.8387  0.8355  0.8376  0.0018  \n",
      "Fit time          71.57   76.20   77.14   74.89   62.34   72.43   5.38    \n",
      "Test time         3.53    3.70    3.58    3.18    2.44    3.28    0.46    \n",
      "Wall time: 5min 42s\n"
     ]
    },
    {
     "data": {
      "text/plain": [
       "{u'fit_time': (71.57100009918213,\n",
       "  76.19900012016296,\n",
       "  77.14299988746643,\n",
       "  74.88600015640259,\n",
       "  62.34099984169006),\n",
       " u'test_mae': array([ 0.6339153 ,  0.63490452,  0.6355148 ,  0.63629218,  0.62912702]),\n",
       " u'test_rmse': array([ 0.83700478,  0.83630975,  0.84045728,  0.83872247,  0.83551996]),\n",
       " u'test_time': (3.5269999504089355,\n",
       "  3.6999998092651367,\n",
       "  3.576000213623047,\n",
       "  3.177999973297119,\n",
       "  2.439000129699707)}"
      ]
     },
     "execution_count": 113,
     "metadata": {},
     "output_type": "execute_result"
    }
   ],
   "source": [
    "%%time\n",
    "cross_validate(SVD(), data, cv=5, verbose=True, n_jobs=-1)"
   ]
  },
  {
   "cell_type": "code",
   "execution_count": 93,
   "metadata": {},
   "outputs": [
    {
     "name": "stdout",
     "output_type": "stream",
     "text": [
      "Evaluating RMSE, MAE of algorithm SVD on 5 split(s).\n",
      "\n",
      "                  Fold 1  Fold 2  Fold 3  Fold 4  Fold 5  Mean    Std     \n",
      "MAE (testset)     0.5330  0.4358  0.4230  0.4239  0.4470  0.4526  0.0412  \n",
      "RMSE (testset)    0.7864  0.6043  0.5439  0.5583  0.6344  0.6255  0.0867  \n",
      "Fit time          0.24    0.09    0.09    0.08    0.10    0.12    0.06    \n",
      "Test time         0.07    0.01    0.00    0.01    0.01    0.02    0.03    \n"
     ]
    },
    {
     "data": {
      "text/plain": [
       "{u'fit_time': (0.24000000953674316,\n",
       "  0.08799982070922852,\n",
       "  0.08600020408630371,\n",
       "  0.07899999618530273,\n",
       "  0.09800004959106445),\n",
       " u'test_mae': array([ 0.53297671,  0.43583739,  0.42301174,  0.42394194,  0.44702259]),\n",
       " u'test_rmse': array([ 0.78638482,  0.60428366,  0.54392033,  0.55830231,  0.63440212]),\n",
       " u'test_time': (0.06999993324279785,\n",
       "  0.006000041961669922,\n",
       "  0.004999876022338867,\n",
       "  0.006000041961669922,\n",
       "  0.005000114440917969)}"
      ]
     },
     "execution_count": 93,
     "metadata": {},
     "output_type": "execute_result"
    }
   ],
   "source": [
    "cross_validate(SVD(), data, cv=5, verbose=True)"
   ]
  },
  {
   "cell_type": "code",
   "execution_count": 53,
   "metadata": {
    "collapsed": true
   },
   "outputs": [],
   "source": [
    "c = pd.read_csv('ukcities.csv',sep='\\t',header=-1)"
   ]
  },
  {
   "cell_type": "code",
   "execution_count": 55,
   "metadata": {},
   "outputs": [
    {
     "data": {
      "text/plain": [
       "array(['London', 'Birmingham', 'Leeds', 'Glasgow', 'Sheffield', 'Bradford',\n",
       "       'Liverpool', 'Edinburgh', 'Manchester', 'Bristol', 'Kirklees',\n",
       "       'Fife', 'Wirral', 'North Lanarkshire', 'Wakefield', 'Cardiff',\n",
       "       'Dudley', 'Wigan', 'East Riding', 'South Lanarkshire', 'Coventry',\n",
       "       'Belfast', 'Leicester', 'Sunderland', 'Sandwell', 'Doncaster',\n",
       "       'Stockport', 'Sefton', 'Nottingham'], dtype=object)"
      ]
     },
     "execution_count": 55,
     "metadata": {},
     "output_type": "execute_result"
    }
   ],
   "source": [
    "c[0].values"
   ]
  },
  {
   "cell_type": "code",
   "execution_count": 66,
   "metadata": {
    "collapsed": true
   },
   "outputs": [],
   "source": [
    "newl2 = newl.apply(isuk)"
   ]
  },
  {
   "cell_type": "code",
   "execution_count": 64,
   "metadata": {},
   "outputs": [
    {
     "data": {
      "text/plain": [
       "UK                       268847\n",
       "USA                       95010\n",
       "missing                   93557\n",
       "Australia                 22052\n",
       "Canada                    14790\n",
       "India                      6571\n",
       "Ireland                    5362\n",
       "Singapore                  3159\n",
       "New Zealand                3116\n",
       "France                     3029\n",
       "Israel                     2853\n",
       "Germany                    2763\n",
       "The Netherlands            2632\n",
       "Italy                      2595\n",
       "Spain                      2375\n",
       "South Africa               2191\n",
       "Malaysia                   2017\n",
       "China                      1949\n",
       "Norway                     1923\n",
       "Sweden                     1895\n",
       "Belgium                    1865\n",
       "Switzerland                1846\n",
       "United Arab Emirates       1833\n",
       "Greece                     1651\n",
       "Portugal                   1438\n",
       "Romania                    1356\n",
       "Denmark                    1293\n",
       "District of Columbia       1273\n",
       "Finland                    1271\n",
       "Malta                       947\n",
       "                          ...  \n",
       "ware,england                  1\n",
       "Marriottsville                1\n",
       "portland                      1\n",
       "mersyside                     1\n",
       "Muswellbrook                  1\n",
       "udine                         1\n",
       "cleveland uk                  1\n",
       "barcelonabiker                1\n",
       "Norrtalje                     1\n",
       "Carbondale                    1\n",
       "Sheringham                    1\n",
       "stansted montfitchett         1\n",
       "Βερολίνο                      1\n",
       "Malta                         1\n",
       "shenzhen                      1\n",
       "Malta,                        1\n",
       "lodon                         1\n",
       "north lincs.                  1\n",
       "Hextable Kent England         1\n",
       "Bombay India                  1\n",
       "gw2588                        1\n",
       "Wye Valley                    1\n",
       "Stanwick                      1\n",
       "England - Reading             1\n",
       "Dallas,tx                     1\n",
       "goharsadaf                    1\n",
       "Kells                         1\n",
       "Newbold Verdon                1\n",
       "Chirk                         1\n",
       "Cupertino CA                  1\n",
       "Name: loca, Length: 9681, dtype: int64"
      ]
     },
     "execution_count": 64,
     "metadata": {},
     "output_type": "execute_result"
    }
   ],
   "source": [
    "newl2.value_counts()"
   ]
  },
  {
   "cell_type": "code",
   "execution_count": 41,
   "metadata": {},
   "outputs": [],
   "source": [
    "idv = df.userID.value_counts()"
   ]
  },
  {
   "cell_type": "code",
   "execution_count": 56,
   "metadata": {},
   "outputs": [
    {
     "data": {
      "text/plain": [
       "count    215765.000000\n",
       "mean          2.905277\n",
       "std           6.930685\n",
       "min           1.000000\n",
       "25%           1.000000\n",
       "50%           1.000000\n",
       "75%           3.000000\n",
       "max        1326.000000\n",
       "Name: userID, dtype: float64"
      ]
     },
     "execution_count": 56,
     "metadata": {},
     "output_type": "execute_result"
    }
   ],
   "source": [
    "idv.describe()"
   ]
  },
  {
   "cell_type": "code",
   "execution_count": 57,
   "metadata": {},
   "outputs": [
    {
     "data": {
      "text/plain": [
       "A TripAdvisor Member    1326\n",
       "WMIM                     416\n",
       "David M                  305\n",
       "David S                  264\n",
       "John H                   261\n",
       "BigHugh51                258\n",
       "sheepygold               256\n",
       "Richard F                250\n",
       "John S                   245\n",
       "John M                   244\n",
       "David B                  243\n",
       "Paul B                   242\n",
       "John B                   234\n",
       "Paul H                   226\n",
       "Chris S                  219\n",
       "Paul S                   219\n",
       "John W                   208\n",
       "David R                  205\n",
       "Borzov                   204\n",
       "Taxidevil                203\n",
       "David G                  196\n",
       "David C                  195\n",
       "swift314                 195\n",
       "David H                  189\n",
       "David W                  184\n",
       "Ian C                    184\n",
       "Peter S                  183\n",
       "John D                   183\n",
       "buffalojim67             182\n",
       "Sandygranny              180\n",
       "                        ... \n",
       "Silva A                    1\n",
       "Rose-Marie A               1\n",
       "AugustoReisJr              1\n",
       "Murry W                    1\n",
       "missharris                 1\n",
       "ginniec390                 1\n",
       "reprendre1                 1\n",
       "Bluebear2207               1\n",
       "Tamer A                    1\n",
       "929gabif                   1\n",
       "theras2000                 1\n",
       "Tezza_mm                   1\n",
       "kodampratap                1\n",
       "Kishan K                   1\n",
       "BrightonPhil               1\n",
       "Trev0rAlis0n               1\n",
       "MrEdible                   1\n",
       "VanitaSawant               1\n",
       "4surfgirls                 1\n",
       "chelleburrow               1\n",
       "BizzyLizzy1960             1\n",
       "llbow                      1\n",
       "Kishan P                   1\n",
       "emily1532016               1\n",
       "rachel j                   1\n",
       "BrendaRuislip              1\n",
       "GBerserker                 1\n",
       "Trisch I                   1\n",
       "TallTravels29              1\n",
       "PwilliamsPwilliams         1\n",
       "Name: userID, Length: 215765, dtype: int64"
      ]
     },
     "execution_count": 57,
     "metadata": {},
     "output_type": "execute_result"
    }
   ],
   "source": [
    "idv"
   ]
  },
  {
   "cell_type": "code",
   "execution_count": 6,
   "metadata": {},
   "outputs": [],
   "source": [
    "import numpy as np"
   ]
  },
  {
   "cell_type": "code",
   "execution_count": 13,
   "metadata": {},
   "outputs": [
    {
     "data": {
      "text/html": [
       "<div>\n",
       "<style scoped>\n",
       "    .dataframe tbody tr th:only-of-type {\n",
       "        vertical-align: middle;\n",
       "    }\n",
       "\n",
       "    .dataframe tbody tr th {\n",
       "        vertical-align: top;\n",
       "    }\n",
       "\n",
       "    .dataframe thead th {\n",
       "        text-align: right;\n",
       "    }\n",
       "</style>\n",
       "<table border=\"1\" class=\"dataframe\">\n",
       "  <thead>\n",
       "    <tr style=\"text-align: right;\">\n",
       "      <th></th>\n",
       "      <th>attraction_British Museum</th>\n",
       "      <th>attraction_National Gallery</th>\n",
       "    </tr>\n",
       "    <tr>\n",
       "      <th>userID</th>\n",
       "      <th></th>\n",
       "      <th></th>\n",
       "    </tr>\n",
       "  </thead>\n",
       "  <tbody>\n",
       "    <tr>\n",
       "      <th>Jayne H</th>\n",
       "      <td>0</td>\n",
       "      <td>1</td>\n",
       "    </tr>\n",
       "    <tr>\n",
       "      <th>dbaizel</th>\n",
       "      <td>0</td>\n",
       "      <td>1</td>\n",
       "    </tr>\n",
       "    <tr>\n",
       "      <th>jafarisoheil</th>\n",
       "      <td>0</td>\n",
       "      <td>1</td>\n",
       "    </tr>\n",
       "    <tr>\n",
       "      <th>JoMac110</th>\n",
       "      <td>0</td>\n",
       "      <td>1</td>\n",
       "    </tr>\n",
       "    <tr>\n",
       "      <th>Kuroshitsuji I</th>\n",
       "      <td>0</td>\n",
       "      <td>1</td>\n",
       "    </tr>\n",
       "    <tr>\n",
       "      <th>SandyBlueBliss</th>\n",
       "      <td>0</td>\n",
       "      <td>1</td>\n",
       "    </tr>\n",
       "    <tr>\n",
       "      <th>canada236</th>\n",
       "      <td>0</td>\n",
       "      <td>1</td>\n",
       "    </tr>\n",
       "    <tr>\n",
       "      <th>concon55</th>\n",
       "      <td>0</td>\n",
       "      <td>1</td>\n",
       "    </tr>\n",
       "    <tr>\n",
       "      <th>NWtraveler</th>\n",
       "      <td>0</td>\n",
       "      <td>1</td>\n",
       "    </tr>\n",
       "    <tr>\n",
       "      <th>Barry &amp; Julie J</th>\n",
       "      <td>0</td>\n",
       "      <td>1</td>\n",
       "    </tr>\n",
       "    <tr>\n",
       "      <th>Oli O</th>\n",
       "      <td>0</td>\n",
       "      <td>1</td>\n",
       "    </tr>\n",
       "    <tr>\n",
       "      <th>Benadicted</th>\n",
       "      <td>0</td>\n",
       "      <td>1</td>\n",
       "    </tr>\n",
       "    <tr>\n",
       "      <th>Diane P</th>\n",
       "      <td>0</td>\n",
       "      <td>1</td>\n",
       "    </tr>\n",
       "    <tr>\n",
       "      <th>sarahtravelled3</th>\n",
       "      <td>0</td>\n",
       "      <td>1</td>\n",
       "    </tr>\n",
       "    <tr>\n",
       "      <th>colleen c</th>\n",
       "      <td>0</td>\n",
       "      <td>1</td>\n",
       "    </tr>\n",
       "    <tr>\n",
       "      <th>justliketetris</th>\n",
       "      <td>0</td>\n",
       "      <td>1</td>\n",
       "    </tr>\n",
       "    <tr>\n",
       "      <th>sundown_10</th>\n",
       "      <td>0</td>\n",
       "      <td>1</td>\n",
       "    </tr>\n",
       "    <tr>\n",
       "      <th>PPetroff50</th>\n",
       "      <td>0</td>\n",
       "      <td>1</td>\n",
       "    </tr>\n",
       "    <tr>\n",
       "      <th>hairbyDB</th>\n",
       "      <td>0</td>\n",
       "      <td>1</td>\n",
       "    </tr>\n",
       "    <tr>\n",
       "      <th>Peter S</th>\n",
       "      <td>0</td>\n",
       "      <td>1</td>\n",
       "    </tr>\n",
       "    <tr>\n",
       "      <th>ajm549</th>\n",
       "      <td>0</td>\n",
       "      <td>1</td>\n",
       "    </tr>\n",
       "    <tr>\n",
       "      <th>WanderingFirefly</th>\n",
       "      <td>0</td>\n",
       "      <td>1</td>\n",
       "    </tr>\n",
       "    <tr>\n",
       "      <th>dannychan_sg</th>\n",
       "      <td>0</td>\n",
       "      <td>1</td>\n",
       "    </tr>\n",
       "    <tr>\n",
       "      <th>Sassysaab</th>\n",
       "      <td>0</td>\n",
       "      <td>1</td>\n",
       "    </tr>\n",
       "    <tr>\n",
       "      <th>73Northernlights</th>\n",
       "      <td>0</td>\n",
       "      <td>1</td>\n",
       "    </tr>\n",
       "    <tr>\n",
       "      <th>turboshop</th>\n",
       "      <td>0</td>\n",
       "      <td>1</td>\n",
       "    </tr>\n",
       "    <tr>\n",
       "      <th>Kelly V</th>\n",
       "      <td>0</td>\n",
       "      <td>1</td>\n",
       "    </tr>\n",
       "    <tr>\n",
       "      <th>Wanderlust777</th>\n",
       "      <td>0</td>\n",
       "      <td>1</td>\n",
       "    </tr>\n",
       "    <tr>\n",
       "      <th>Uwe H</th>\n",
       "      <td>0</td>\n",
       "      <td>1</td>\n",
       "    </tr>\n",
       "    <tr>\n",
       "      <th>ArielaIsrael</th>\n",
       "      <td>0</td>\n",
       "      <td>1</td>\n",
       "    </tr>\n",
       "    <tr>\n",
       "      <th>...</th>\n",
       "      <td>...</td>\n",
       "      <td>...</td>\n",
       "    </tr>\n",
       "    <tr>\n",
       "      <th>id-mom</th>\n",
       "      <td>0</td>\n",
       "      <td>1</td>\n",
       "    </tr>\n",
       "    <tr>\n",
       "      <th>Chris G</th>\n",
       "      <td>0</td>\n",
       "      <td>1</td>\n",
       "    </tr>\n",
       "    <tr>\n",
       "      <th>vintiek</th>\n",
       "      <td>0</td>\n",
       "      <td>1</td>\n",
       "    </tr>\n",
       "    <tr>\n",
       "      <th>Kotorprivatetours</th>\n",
       "      <td>0</td>\n",
       "      <td>1</td>\n",
       "    </tr>\n",
       "    <tr>\n",
       "      <th>orange808</th>\n",
       "      <td>0</td>\n",
       "      <td>1</td>\n",
       "    </tr>\n",
       "    <tr>\n",
       "      <th>Contented77</th>\n",
       "      <td>0</td>\n",
       "      <td>1</td>\n",
       "    </tr>\n",
       "    <tr>\n",
       "      <th>DanyHaifa</th>\n",
       "      <td>0</td>\n",
       "      <td>1</td>\n",
       "    </tr>\n",
       "    <tr>\n",
       "      <th>MacLancashire</th>\n",
       "      <td>0</td>\n",
       "      <td>1</td>\n",
       "    </tr>\n",
       "    <tr>\n",
       "      <th>Nicholas W</th>\n",
       "      <td>0</td>\n",
       "      <td>1</td>\n",
       "    </tr>\n",
       "    <tr>\n",
       "      <th>jojomoz</th>\n",
       "      <td>0</td>\n",
       "      <td>1</td>\n",
       "    </tr>\n",
       "    <tr>\n",
       "      <th>Richard W</th>\n",
       "      <td>0</td>\n",
       "      <td>1</td>\n",
       "    </tr>\n",
       "    <tr>\n",
       "      <th>John L</th>\n",
       "      <td>0</td>\n",
       "      <td>1</td>\n",
       "    </tr>\n",
       "    <tr>\n",
       "      <th>pagoda2014</th>\n",
       "      <td>0</td>\n",
       "      <td>1</td>\n",
       "    </tr>\n",
       "    <tr>\n",
       "      <th>wookierv</th>\n",
       "      <td>0</td>\n",
       "      <td>1</td>\n",
       "    </tr>\n",
       "    <tr>\n",
       "      <th>Panzano07</th>\n",
       "      <td>0</td>\n",
       "      <td>1</td>\n",
       "    </tr>\n",
       "    <tr>\n",
       "      <th>edward t</th>\n",
       "      <td>0</td>\n",
       "      <td>1</td>\n",
       "    </tr>\n",
       "    <tr>\n",
       "      <th>FWilkinson</th>\n",
       "      <td>0</td>\n",
       "      <td>1</td>\n",
       "    </tr>\n",
       "    <tr>\n",
       "      <th>BigRuss1213</th>\n",
       "      <td>0</td>\n",
       "      <td>1</td>\n",
       "    </tr>\n",
       "    <tr>\n",
       "      <th>PatP043</th>\n",
       "      <td>0</td>\n",
       "      <td>1</td>\n",
       "    </tr>\n",
       "    <tr>\n",
       "      <th>Julia N</th>\n",
       "      <td>0</td>\n",
       "      <td>1</td>\n",
       "    </tr>\n",
       "    <tr>\n",
       "      <th>trek4cs</th>\n",
       "      <td>0</td>\n",
       "      <td>1</td>\n",
       "    </tr>\n",
       "    <tr>\n",
       "      <th>Gisela V</th>\n",
       "      <td>0</td>\n",
       "      <td>1</td>\n",
       "    </tr>\n",
       "    <tr>\n",
       "      <th>Dalyn F</th>\n",
       "      <td>0</td>\n",
       "      <td>1</td>\n",
       "    </tr>\n",
       "    <tr>\n",
       "      <th>Mary-Anne W</th>\n",
       "      <td>0</td>\n",
       "      <td>1</td>\n",
       "    </tr>\n",
       "    <tr>\n",
       "      <th>Sarah P</th>\n",
       "      <td>0</td>\n",
       "      <td>1</td>\n",
       "    </tr>\n",
       "    <tr>\n",
       "      <th>James C</th>\n",
       "      <td>0</td>\n",
       "      <td>1</td>\n",
       "    </tr>\n",
       "    <tr>\n",
       "      <th>Ruth25-25</th>\n",
       "      <td>0</td>\n",
       "      <td>1</td>\n",
       "    </tr>\n",
       "    <tr>\n",
       "      <th>chigurhanton</th>\n",
       "      <td>0</td>\n",
       "      <td>1</td>\n",
       "    </tr>\n",
       "    <tr>\n",
       "      <th>TravelerMikePlano</th>\n",
       "      <td>0</td>\n",
       "      <td>1</td>\n",
       "    </tr>\n",
       "    <tr>\n",
       "      <th>velvetina</th>\n",
       "      <td>0</td>\n",
       "      <td>1</td>\n",
       "    </tr>\n",
       "  </tbody>\n",
       "</table>\n",
       "<p>10000 rows × 2 columns</p>\n",
       "</div>"
      ],
      "text/plain": [
       "                   attraction_British Museum  attraction_National Gallery\n",
       "userID                                                                   \n",
       "Jayne H                                    0                            1\n",
       "dbaizel                                    0                            1\n",
       "jafarisoheil                               0                            1\n",
       "JoMac110                                   0                            1\n",
       "Kuroshitsuji I                             0                            1\n",
       "SandyBlueBliss                             0                            1\n",
       "canada236                                  0                            1\n",
       "concon55                                   0                            1\n",
       "NWtraveler                                 0                            1\n",
       "Barry & Julie J                            0                            1\n",
       "Oli O                                      0                            1\n",
       "Benadicted                                 0                            1\n",
       "Diane P                                    0                            1\n",
       "sarahtravelled3                            0                            1\n",
       "colleen c                                  0                            1\n",
       "justliketetris                             0                            1\n",
       "sundown_10                                 0                            1\n",
       "PPetroff50                                 0                            1\n",
       "hairbyDB                                   0                            1\n",
       "Peter S                                    0                            1\n",
       "ajm549                                     0                            1\n",
       "WanderingFirefly                           0                            1\n",
       "dannychan_sg                               0                            1\n",
       "Sassysaab                                  0                            1\n",
       "73Northernlights                           0                            1\n",
       "turboshop                                  0                            1\n",
       "Kelly V                                    0                            1\n",
       "Wanderlust777                              0                            1\n",
       "Uwe H                                      0                            1\n",
       "ArielaIsrael                               0                            1\n",
       "...                                      ...                          ...\n",
       "id-mom                                     0                            1\n",
       "Chris G                                    0                            1\n",
       "vintiek                                    0                            1\n",
       "Kotorprivatetours                          0                            1\n",
       "orange808                                  0                            1\n",
       "Contented77                                0                            1\n",
       "DanyHaifa                                  0                            1\n",
       "MacLancashire                              0                            1\n",
       "Nicholas W                                 0                            1\n",
       "jojomoz                                    0                            1\n",
       "Richard W                                  0                            1\n",
       "John L                                     0                            1\n",
       "pagoda2014                                 0                            1\n",
       "wookierv                                   0                            1\n",
       "Panzano07                                  0                            1\n",
       "edward t                                   0                            1\n",
       "FWilkinson                                 0                            1\n",
       "BigRuss1213                                0                            1\n",
       "PatP043                                    0                            1\n",
       "Julia N                                    0                            1\n",
       "trek4cs                                    0                            1\n",
       "Gisela V                                   0                            1\n",
       "Dalyn F                                    0                            1\n",
       "Mary-Anne W                                0                            1\n",
       "Sarah P                                    0                            1\n",
       "James C                                    0                            1\n",
       "Ruth25-25                                  0                            1\n",
       "chigurhanton                               0                            1\n",
       "TravelerMikePlano                          0                            1\n",
       "velvetina                                  0                            1\n",
       "\n",
       "[10000 rows x 2 columns]"
      ]
     },
     "execution_count": 13,
     "metadata": {},
     "output_type": "execute_result"
    }
   ],
   "source": []
  },
  {
   "cell_type": "code",
   "execution_count": null,
   "metadata": {},
   "outputs": [],
   "source": []
  }
 ],
 "metadata": {
  "kernelspec": {
   "display_name": "Python 2",
   "language": "python",
   "name": "python2"
  },
  "language_info": {
   "codemirror_mode": {
    "name": "ipython",
    "version": 2
   },
   "file_extension": ".py",
   "mimetype": "text/x-python",
   "name": "python",
   "nbconvert_exporter": "python",
   "pygments_lexer": "ipython2",
   "version": "2.7.14"
  }
 },
 "nbformat": 4,
 "nbformat_minor": 2
}
