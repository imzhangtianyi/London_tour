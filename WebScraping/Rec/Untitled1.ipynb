{
 "cells": [
  {
   "cell_type": "code",
   "execution_count": 1,
   "metadata": {},
   "outputs": [],
   "source": [
    "import pandas as pd\n",
    "import numpy as np\n",
    "t = pd.read_pickle('t.pkl')"
   ]
  },
  {
   "cell_type": "code",
   "execution_count": 2,
   "metadata": {},
   "outputs": [],
   "source": [
    "from surprise import Reader\n",
    "from surprise import Dataset\n",
    "from surprise.model_selection import cross_validate\n",
    "from surprise import AlgoBase\n",
    "class mrate(AlgoBase):\n",
    "\n",
    "    def __init__(self):\n",
    "        AlgoBase.__init__(self)\n",
    "\n",
    "    def fit(self, trainset):\n",
    "        # call base method\n",
    "        AlgoBase.fit(self, trainset)\n",
    "        # user mean\n",
    "#         self.user_r = {}\n",
    "#         for u in self.trainset.all_users():\n",
    "#             umean = np.mean([x for _,x in self.trainset.ur[u]])\n",
    "#             self.user_r.update({u:umean})\n",
    "            \n",
    "        # attraction mean\n",
    "        self.at_r = {}\n",
    "        for i in self.trainset.all_items():\n",
    "            imean = np.mean([x for _,x in self.trainset.ir[i]])\n",
    "            self.at_r.update({i:imean})\n",
    "\n",
    "        return self\n",
    "\n",
    "    def estimate(self, u, i):\n",
    "        if self.trainset.knows_item(i):\n",
    "            return self.at_r[i]\n",
    "        else:\n",
    "            return self.trainset.global_mean"
   ]
  },
  {
   "cell_type": "code",
   "execution_count": 3,
   "metadata": {},
   "outputs": [],
   "source": [
    "data = Dataset.load_from_df(t[0:12], Reader(rating_scale=(1, 5)))"
   ]
  },
  {
   "cell_type": "code",
   "execution_count": 4,
   "metadata": {},
   "outputs": [],
   "source": [
    "algo = mrate()"
   ]
  },
  {
   "cell_type": "code",
   "execution_count": 5,
   "metadata": {},
   "outputs": [
    {
     "name": "stdout",
     "output_type": "stream",
     "text": [
      "[Prediction(uid=108291L, iid=795L, r_ui=5.0, est=4.625, details={u'was_impossible': False}), Prediction(uid=74592L, iid=477L, r_ui=5.0, est=4.625, details={u'was_impossible': False}), Prediction(uid=14553L, iid=444L, r_ui=4.0, est=4.625, details={u'was_impossible': False}), Prediction(uid=12332L, iid=783L, r_ui=4.0, est=4.625, details={u'was_impossible': False})]\n",
      "[Prediction(uid=6941L, iid=473L, r_ui=5.0, est=4.5, details={u'was_impossible': False}), Prediction(uid=10143L, iid=314L, r_ui=4.0, est=4.5, details={u'was_impossible': False}), Prediction(uid=119406L, iid=358L, r_ui=5.0, est=4.5, details={u'was_impossible': False}), Prediction(uid=214683L, iid=99L, r_ui=5.0, est=4.5, details={u'was_impossible': False})]\n",
      "[Prediction(uid=131276L, iid=240L, r_ui=5.0, est=4.625, details={u'was_impossible': False}), Prediction(uid=55287L, iid=237L, r_ui=5.0, est=4.625, details={u'was_impossible': False}), Prediction(uid=71464L, iid=124L, r_ui=4.0, est=4.625, details={u'was_impossible': False}), Prediction(uid=162238L, iid=169L, r_ui=4.0, est=4.625, details={u'was_impossible': False})]\n"
     ]
    }
   ],
   "source": [
    "from surprise.model_selection.split import KFold\n",
    "kf = KFold(n_splits=3)\n",
    "for trainset, testset in kf.split(data):\n",
    "    algo.fit(trainset)\n",
    "    print algo.test(testset)"
   ]
  },
  {
   "cell_type": "code",
   "execution_count": 25,
   "metadata": {},
   "outputs": [
    {
     "name": "stdout",
     "output_type": "stream",
     "text": [
      "Evaluating RMSE, MAE of algorithm MyOwnAlgorithm on 5 split(s).\n",
      "\n",
      "                  Fold 1  Fold 2  Fold 3  Fold 4  Fold 5  Mean    Std     \n",
      "MAE (testset)     0.4815  0.4815  0.7000  0.5000  0.5000  0.5326  0.0841  \n",
      "RMSE (testset)    0.4843  0.4843  0.7000  0.5099  0.5000  0.5357  0.0827  \n",
      "Fit time          0.00    0.00    0.00    0.00    0.00    0.00    0.00    \n",
      "Test time         0.00    0.00    0.00    0.00    0.00    0.00    0.00    \n"
     ]
    },
    {
     "data": {
      "text/plain": [
       "{u'fit_time': (0.0, 0.0, 0.0, 0.0, 0.0),\n",
       " u'test_mae': array([0.48148148, 0.48148148, 0.7       , 0.5       , 0.5       ]),\n",
       " u'test_rmse': array([0.4843221 , 0.4843221 , 0.7       , 0.50990195, 0.5       ]),\n",
       " u'test_time': (0.0, 0.0, 0.0, 0.0, 0.0)}"
      ]
     },
     "execution_count": 25,
     "metadata": {},
     "output_type": "execute_result"
    }
   ],
   "source": [
    "class MyOwnAlgorithm(AlgoBase):\n",
    "\n",
    "    def __init__(self):\n",
    "\n",
    "        # Always call base method before doing anything.\n",
    "        AlgoBase.__init__(self)\n",
    "\n",
    "    def fit(self, trainset):\n",
    "        # call base method\n",
    "        AlgoBase.fit(self, trainset)\n",
    "        self.at_r = {}\n",
    "        for i in self.trainset.all_items():\n",
    "            imean = np.mean([x for _,x in self.trainset.ir[i]])\n",
    "            self.at_r.update({i:imean})\n",
    "        return self\n",
    "    def estimate(self, u, i):\n",
    "\n",
    "        if self.trainset.knows_item(i):\n",
    "            return self.at_r[i]\n",
    "        else:\n",
    "            return self.trainset.global_mean\n",
    "\n",
    "\n",
    "algo = MyOwnAlgorithm()\n",
    "\n",
    "cross_validate(algo, data, verbose=True)"
   ]
  },
  {
   "cell_type": "code",
   "execution_count": 7,
   "metadata": {},
   "outputs": [
    {
     "name": "stdout",
     "output_type": "stream",
     "text": [
      "Evaluating RMSE, MAE of algorithm mrate on 5 split(s).\n",
      "\n",
      "                  Fold 1  Fold 2  Fold 3  Fold 4  Fold 5  Mean    Std     \n",
      "MAE (testset)     0.5556  0.4815  0.5000  0.5000  0.5000  0.5074  0.0251  \n",
      "RMSE (testset)    0.5774  0.4843  0.5099  0.5099  0.5000  0.5163  0.0319  \n",
      "Fit time          0.00    0.00    0.00    0.00    0.00    0.00    0.00    \n",
      "Test time         0.00    0.00    0.00    0.00    0.00    0.00    0.00    \n"
     ]
    },
    {
     "data": {
      "text/plain": [
       "{u'fit_time': (0.0009999275207519531,\n",
       "  0.0,\n",
       "  0.0009999275207519531,\n",
       "  0.0010001659393310547,\n",
       "  0.0009999275207519531),\n",
       " u'test_mae': array([0.55555556, 0.48148148, 0.5       , 0.5       , 0.5       ]),\n",
       " u'test_rmse': array([0.57735027, 0.4843221 , 0.50990195, 0.50990195, 0.5       ]),\n",
       " u'test_time': (0.0, 0.0009999275207519531, 0.0, 0.0, 0.0)}"
      ]
     },
     "execution_count": 7,
     "metadata": {},
     "output_type": "execute_result"
    }
   ],
   "source": [
    "cross_validate(algo, data, cv=5, verbose=True)"
   ]
  },
  {
   "cell_type": "code",
   "execution_count": 6,
   "metadata": {},
   "outputs": [
    {
     "name": "stdout",
     "output_type": "stream",
     "text": [
      "Evaluating RMSE, MAE of algorithm mrate on 5 split(s).\n",
      "\n",
      "                  Fold 1  Fold 2  Fold 3  Fold 4  Fold 5  Mean    Std     \n",
      "MAE (testset)     0.5556  0.5556  0.5000  0.5000  0.5000  0.5222  0.0272  \n",
      "RMSE (testset)    0.5774  0.5774  0.5099  0.5000  0.5000  0.5329  0.0365  \n",
      "Fit time          0.00    0.00    0.00    0.00    0.00    0.00    0.00    \n",
      "Test time         0.00    0.00    0.00    0.00    0.00    0.00    0.00    \n"
     ]
    },
    {
     "data": {
      "text/plain": [
       "{u'fit_time': (0.0010001659393310547,\n",
       "  0.0,\n",
       "  0.0029997825622558594,\n",
       "  0.0010001659393310547,\n",
       "  0.0009999275207519531),\n",
       " u'test_mae': array([0.55555556, 0.55555556, 0.5       , 0.5       , 0.5       ]),\n",
       " u'test_rmse': array([0.57735027, 0.57735027, 0.50990195, 0.5       , 0.5       ]),\n",
       " u'test_time': (0.0, 0.0009999275207519531, 0.0, 0.0, 0.0)}"
      ]
     },
     "execution_count": 6,
     "metadata": {},
     "output_type": "execute_result"
    }
   ],
   "source": [
    "cross_validate(algo, data, verbose=True)"
   ]
  },
  {
   "cell_type": "code",
   "execution_count": null,
   "metadata": {},
   "outputs": [],
   "source": []
  }
 ],
 "metadata": {
  "kernelspec": {
   "display_name": "Python 2",
   "language": "python",
   "name": "python2"
  },
  "language_info": {
   "codemirror_mode": {
    "name": "ipython",
    "version": 2
   },
   "file_extension": ".py",
   "mimetype": "text/x-python",
   "name": "python",
   "nbconvert_exporter": "python",
   "pygments_lexer": "ipython2",
   "version": "2.7.14"
  }
 },
 "nbformat": 4,
 "nbformat_minor": 2
}
