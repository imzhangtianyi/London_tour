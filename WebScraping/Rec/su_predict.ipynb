{
 "cells": [
  {
   "cell_type": "code",
   "execution_count": 1,
   "metadata": {},
   "outputs": [],
   "source": [
    "import pandas as pd\n",
    "import numpy as np\n",
    "df = pd.read_pickle('reviews0')"
   ]
  },
  {
   "cell_type": "code",
   "execution_count": 22,
   "metadata": {},
   "outputs": [],
   "source": [
    "from sklearn.preprocessing import LabelEncoder\n",
    "from surprise import SVD\n",
    "from surprise import Reader\n",
    "from surprise import Dataset\n",
    "from surprise.model_selection import cross_validate"
   ]
  },
  {
   "cell_type": "code",
   "execution_count": 45,
   "metadata": {},
   "outputs": [],
   "source": [
    "le = LabelEncoder()\n",
    "tr = pd.DataFrame()"
   ]
  },
  {
   "cell_type": "code",
   "execution_count": 46,
   "metadata": {},
   "outputs": [],
   "source": [
    "tr['userID'] = le.fit_transform(df.userID)\n",
    "tr['attraction'] = le.fit_transform(df.attraction)\n",
    "tr['rating'] = df.user_rating.apply(lambda x: int(x[0])).values\n",
    "tr = tr.sample(frac=1)"
   ]
  },
  {
   "cell_type": "code",
   "execution_count": 47,
   "metadata": {},
   "outputs": [],
   "source": [
    "data = Dataset.load_from_df(tr, Reader(rating_scale=(1, 5)))"
   ]
  },
  {
   "cell_type": "code",
   "execution_count": 5,
   "metadata": {},
   "outputs": [
    {
     "name": "stdout",
     "output_type": "stream",
     "text": [
      "Evaluating RMSE, MAE of algorithm SVD on 5 split(s).\n",
      "\n",
      "                  Fold 1  Fold 2  Fold 3  Fold 4  Fold 5  Mean    Std     \n",
      "MAE (testset)     0.6356  0.6348  0.6346  0.6348  0.6346  0.6349  0.0003  \n",
      "RMSE (testset)    0.8370  0.8367  0.8355  0.8390  0.8379  0.8372  0.0012  \n",
      "Fit time          26.16   27.95   27.19   25.73   24.99   26.40   1.05    \n",
      "Test time         1.38    1.29    1.33    1.17    1.22    1.28    0.08    \n",
      "Wall time: 1min 44s\n"
     ]
    }
   ],
   "source": [
    "%%time\n",
    "cross_validate(SVD(), data, cv=5, verbose=True, n_jobs=-1)"
   ]
  },
  {
   "cell_type": "code",
   "execution_count": 6,
   "metadata": {},
   "outputs": [],
   "source": [
    "from surprise import AlgoBase\n",
    "class mrate(AlgoBase):\n",
    "\n",
    "    def __init__(self):\n",
    "        AlgoBase.__init__(self)\n",
    "\n",
    "    def fit(self, trainset):\n",
    "        # call base method\n",
    "        AlgoBase.fit(self, trainset)\n",
    "        # user mean\n",
    "#         self.user_r = {}\n",
    "#         for u in self.trainset.all_users():\n",
    "#             umean = np.mean([x for _,x in self.trainset.ur[u]])\n",
    "#             self.user_r.update({u:umean})\n",
    "            \n",
    "        # attraction mean\n",
    "        self.at_r = {}\n",
    "        for i in self.trainset.all_items():\n",
    "            imean = np.mean([x for _,x in self.trainset.ir[i]])\n",
    "            self.at_r.update({i:imean})\n",
    "\n",
    "        return self\n",
    "\n",
    "    def estimate(self, u, i):\n",
    "        if self.trainset.knows_item(i):\n",
    "            return self.at_r[i]\n",
    "        else:\n",
    "            return self.trainset.global_mean"
   ]
  },
  {
   "cell_type": "code",
   "execution_count": 12,
   "metadata": {},
   "outputs": [
    {
     "name": "stdout",
     "output_type": "stream",
     "text": [
      "Evaluating RMSE, MAE of algorithm mrate on 5 split(s).\n",
      "\n",
      "                  Fold 1  Fold 2  Fold 3  Fold 4  Fold 5  Mean    Std     \n",
      "MAE (testset)     0.6512  0.6489  0.6487  0.6509  0.6487  0.6497  0.0011  \n",
      "RMSE (testset)    0.8416  0.8358  0.8366  0.8413  0.8344  0.8379  0.0030  \n",
      "Fit time          0.16    0.34    0.32    0.33    0.32    0.29    0.07    \n",
      "Test time         1.02    1.01    1.02    1.21    1.00    1.05    0.08    \n",
      "Wall time: 15.8 s\n"
     ]
    }
   ],
   "source": [
    "%%time\n",
    "algo = mrate()\n",
    "cross_validate(algo, data, cv=5, verbose=True)"
   ]
  },
  {
   "cell_type": "code",
   "execution_count": 10,
   "metadata": {},
   "outputs": [],
   "source": [
    "from surprise.model_selection import train_test_split\n",
    "trainset, testset = train_test_split(data, test_size=.25)"
   ]
  },
  {
   "cell_type": "code",
   "execution_count": 15,
   "metadata": {},
   "outputs": [],
   "source": [
    "from surprise import accuracy"
   ]
  },
  {
   "cell_type": "code",
   "execution_count": 22,
   "metadata": {},
   "outputs": [],
   "source": [
    "from surprise.model_selection.split import KFold"
   ]
  },
  {
   "cell_type": "code",
   "execution_count": 23,
   "metadata": {},
   "outputs": [],
   "source": [
    "kf = KFold(n_splits=3)"
   ]
  },
  {
   "cell_type": "code",
   "execution_count": 32,
   "metadata": {},
   "outputs": [
    {
     "name": "stdout",
     "output_type": "stream",
     "text": [
      "RMSE: 0.5000\n",
      "RMSE: 0.6614\n",
      "RMSE: 0.5000\n"
     ]
    }
   ],
   "source": [
    "for trainset, testset in kf.split(data):\n",
    "    algo.fit(trainset)\n",
    "    accuracy.rmse(algo.test(testset))"
   ]
  },
  {
   "cell_type": "code",
   "execution_count": 7,
   "metadata": {},
   "outputs": [],
   "source": [
    "t = pd.read_pickle('reviews1.pkl')"
   ]
  },
  {
   "cell_type": "code",
   "execution_count": 10,
   "metadata": {},
   "outputs": [],
   "source": [
    "id2 = t.userID.value_counts() >2"
   ]
  },
  {
   "cell_type": "code",
   "execution_count": 14,
   "metadata": {},
   "outputs": [],
   "source": [
    "u2 = id2.loc[id2].index"
   ]
  },
  {
   "cell_type": "code",
   "execution_count": 18,
   "metadata": {},
   "outputs": [],
   "source": [
    "t2 = t.loc[t.userID.apply(lambda x: x in u2)]"
   ]
  },
  {
   "cell_type": "code",
   "execution_count": 39,
   "metadata": {},
   "outputs": [],
   "source": [
    "le = LabelEncoder()\n",
    "tr = pd.DataFrame()\n",
    "tr['userID'] = le.fit_transform(t2.userID)\n",
    "tr['attraction'] = le.fit_transform(t2.attraction)\n",
    "tr['rating'] = t2.user_rating.apply(lambda x: int(x[0])).values"
   ]
  },
  {
   "cell_type": "code",
   "execution_count": 40,
   "metadata": {},
   "outputs": [],
   "source": [
    "data = Dataset.load_from_df(tr, Reader(rating_scale=(1, 5)))"
   ]
  },
  {
   "cell_type": "code",
   "execution_count": 42,
   "metadata": {},
   "outputs": [
    {
     "name": "stdout",
     "output_type": "stream",
     "text": [
      "Evaluating RMSE, MAE of algorithm SVD on 5 split(s).\n",
      "\n",
      "                  Fold 1  Fold 2  Fold 3  Fold 4  Fold 5  Mean    Std     \n",
      "MAE (testset)     0.5987  0.5957  0.6034  0.5976  0.5978  0.5986  0.0026  \n",
      "RMSE (testset)    0.7885  0.7860  0.7965  0.7849  0.7928  0.7897  0.0043  \n",
      "Fit time          16.23   16.32   16.33   16.19   16.05   16.23   0.10    \n",
      "Test time         0.78    0.73    0.71    0.72    0.76    0.74    0.03    \n",
      "Wall time: 56.7 s\n"
     ]
    },
    {
     "data": {
      "text/plain": [
       "{u'fit_time': (16.22699999809265,\n",
       "  16.324999809265137,\n",
       "  16.328999996185303,\n",
       "  16.194999933242798,\n",
       "  16.05299997329712),\n",
       " u'test_mae': array([0.5986822 , 0.59569447, 0.60335191, 0.59755149, 0.59783255]),\n",
       " u'test_rmse': array([0.78848976, 0.7860169 , 0.796534  , 0.78487375, 0.7927735 ]),\n",
       " u'test_time': (0.7810001373291016,\n",
       "  0.7260000705718994,\n",
       "  0.7100000381469727,\n",
       "  0.7179999351501465,\n",
       "  0.7580001354217529)}"
      ]
     },
     "execution_count": 42,
     "metadata": {},
     "output_type": "execute_result"
    }
   ],
   "source": [
    "%%time\n",
    "cross_validate(SVD(), data, cv=5, verbose=True, n_jobs=-1)"
   ]
  },
  {
   "cell_type": "code",
   "execution_count": 52,
   "metadata": {},
   "outputs": [],
   "source": [
    "data = Dataset.load_from_df(tr[0:428683], Reader(rating_scale=(1, 5)))"
   ]
  },
  {
   "cell_type": "code",
   "execution_count": 53,
   "metadata": {},
   "outputs": [
    {
     "name": "stdout",
     "output_type": "stream",
     "text": [
      "Evaluating RMSE, MAE of algorithm SVD on 5 split(s).\n",
      "\n",
      "                  Fold 1  Fold 2  Fold 3  Fold 4  Fold 5  Mean    Std     \n",
      "MAE (testset)     0.6372  0.6402  0.6400  0.6394  0.6357  0.6385  0.0018  \n",
      "RMSE (testset)    0.8365  0.8424  0.8401  0.8426  0.8405  0.8404  0.0022  \n",
      "Fit time          16.54   16.69   16.79   16.61   16.45   16.62   0.12    \n",
      "Test time         0.83    0.82    0.81    0.79    0.78    0.80    0.02    \n",
      "Wall time: 1min 4s\n"
     ]
    },
    {
     "data": {
      "text/plain": [
       "{u'fit_time': (16.538999795913696,\n",
       "  16.693000078201294,\n",
       "  16.794999837875366,\n",
       "  16.61299991607666,\n",
       "  16.44599986076355),\n",
       " u'test_mae': array([0.63716556, 0.64019452, 0.63998636, 0.63935787, 0.63567301]),\n",
       " u'test_rmse': array([0.83653499, 0.84244422, 0.84006237, 0.84258364, 0.8405265 ]),\n",
       " u'test_time': (0.8250000476837158,\n",
       "  0.8199999332427979,\n",
       "  0.8080000877380371,\n",
       "  0.7860000133514404,\n",
       "  0.7820000648498535)}"
      ]
     },
     "execution_count": 53,
     "metadata": {},
     "output_type": "execute_result"
    }
   ],
   "source": [
    "%%time\n",
    "cross_validate(SVD(), data, cv=5, verbose=True, n_jobs=-1)"
   ]
  },
  {
   "cell_type": "code",
   "execution_count": null,
   "metadata": {},
   "outputs": [],
   "source": []
  }
 ],
 "metadata": {
  "kernelspec": {
   "display_name": "Python 2",
   "language": "python",
   "name": "python2"
  },
  "language_info": {
   "codemirror_mode": {
    "name": "ipython",
    "version": 2
   },
   "file_extension": ".py",
   "mimetype": "text/x-python",
   "name": "python",
   "nbconvert_exporter": "python",
   "pygments_lexer": "ipython2",
   "version": "2.7.14"
  }
 },
 "nbformat": 4,
 "nbformat_minor": 2
}
