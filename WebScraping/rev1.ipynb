{
 "cells": [
  {
   "cell_type": "code",
   "execution_count": 22,
   "metadata": {
    "collapsed": true
   },
   "outputs": [],
   "source": [
    "from bs4 import BeautifulSoup\n",
    "import psycopg2 as pg2\n",
    "import logging\n",
    "import requests\n",
    "import time\n",
    "import csv\n",
    "with open('rsites.csv', 'rb') as csvfile:\n",
    "    u = list(csv.reader(csvfile))\n",
    "\n",
    "logging.basicConfig(level=logging.INFO,\n",
    "                    format='%(asctime)s %(name)-12s %(levelname)-8s %(message)s',\n",
    "                    datefmt='%a, %d %b %Y %H:%M:%S',\n",
    "                    filename='log1.log',\n",
    "                    filemode='w')"
   ]
  },
  {
   "cell_type": "code",
   "execution_count": 18,
   "metadata": {},
   "outputs": [
    {
     "name": "stdout",
     "output_type": "stream",
     "text": [
      "National Gallery /Attraction_Review-g186338-d188862-Reviews-National_Gallery-London_England.html 18896\n",
      "British Museum /Attraction_Review-g186338-d187555-Reviews-British_Museum-London_England.html 35510\n",
      "V&A - Victoria and Albert Museum /Attraction_Review-g186338-d187556-Reviews-V_A_Victoria_and_Albert_Museum-London_England.html 20440\n"
     ]
    }
   ],
   "source": [
    "for x in u[0:3]:\n",
    "    print x[0], x[1],x[2]"
   ]
  },
  {
   "cell_type": "code",
   "execution_count": 27,
   "metadata": {},
   "outputs": [
    {
     "name": "stdout",
     "output_type": "stream",
     "text": [
      "1890\n",
      "3552\n",
      "2045\n"
     ]
    }
   ],
   "source": [
    "for x in u[0:3]:\n",
    "    print int(x[2])/10+1"
   ]
  },
  {
   "cell_type": "code",
   "execution_count": 53,
   "metadata": {},
   "outputs": [
    {
     "name": "stdout",
     "output_type": "stream",
     "text": [
      "https://www.tripadvisor.com/Attraction_Review-g186338-d548740-Reviews-or10-Queen_Mother_Sports_Centre-London_England.html\n",
      "https://www.tripadvisor.com/Attraction_Review-g186338-d548740-Reviews-or20-Queen_Mother_Sports_Centre-London_England.html\n",
      "https://www.tripadvisor.com/Attraction_Review-g186338-d10352332-Reviews-or10-Excess_Baggage_Company-London_England.html\n"
     ]
    }
   ],
   "source": [
    "for x in u[868:870]:\n",
    "    for i in range(10,int(x[2])+1,10):\n",
    "\n",
    "        url = 'https://www.tripadvisor.com' + x[1].replace('-Reviews-','-Reviews-or{}-'.format(i))\n",
    "\n",
    "        print url"
   ]
  },
  {
   "cell_type": "code",
   "execution_count": 60,
   "metadata": {},
   "outputs": [
    {
     "name": "stdout",
     "output_type": "stream",
     "text": [
      "0\n",
      "0\n",
      "0\n"
     ]
    }
   ],
   "source": [
    "page = 0\n",
    "for x in u[868:870]:\n",
    "    for i in range(10,int(x[2])+1,10):\n",
    "        page = page+1\n",
    "        try:\n",
    "            url = 'https://www.tripadvisor.com' + x[1].replace('-Reviews-','-Reviews-or{}-'.format(i))\n",
    "            page_recq = requests.get(url, timeout=5)\n",
    "            logging.info('%s', url)\n",
    "            print page\n",
    "        except:\n",
    "            logging.exception(\"Fail to requestion link: %\", x[1])\n",
    "        soup = BeautifulSoup(page_recq.content, \"html.parser\")\n",
    "#=====================================================================================================================\n",
    "# Reviews\n",
    "#=====================================================================================================================\n",
    "        r0 = soup.find_all('div', {'class':'reviewSelector'})\n",
    "        for r in r0:\n",
    "#=====================================================================================================================\n",
    "# User name\n",
    "#=====================================================================================================================\n",
    "            try:\n",
    "                user = r.find('div', {'class':'username mo'}).getText()\n",
    "            except:\n",
    "                logging.warning(\"Fail to aquire userid: site: %s\", x[0])\n",
    "                continue\n",
    "\n",
    "#=====================================================================================================================\n",
    "# User contributions and up votes\n",
    "#=====================================================================================================================\n",
    "            try:\n",
    "                cu = r.find('div', {'class':'memberBadgingNoText'})\n",
    "                cuv = cu.find_all('span', {'class':'badgetext'})\n",
    "                user_Contributions = cuv[0].getText()\n",
    "            except:\n",
    "                user_Contributions = 0\n",
    "                user_UpVotes = 0\n",
    "            try:\n",
    "                user_UpVotes = cuv[1].getText()\n",
    "            except:\n",
    "                user_UpVotes = 0\n",
    "#=====================================================================================================================\n",
    "# User location\n",
    "#=====================================================================================================================\n",
    "            try:\n",
    "                user_location = r.find('div', {'class':'location'}).getText()\n",
    "            except:\n",
    "                user_location = 'missing'\n",
    "#=====================================================================================================================\n",
    "# Rating\n",
    "#=====================================================================================================================\n",
    "            try:\n",
    "                user_rating = r.find('div', {'class':'ratingInfo'}).next['class'][1][-2:]\n",
    "            except:\n",
    "                user_rating = 'missing'\n",
    "#=====================================================================================================================\n",
    "# Review date\n",
    "#=====================================================================================================================\n",
    "            try:\n",
    "                review_date = r.find('span', {'class':'ratingDate relativeDate'})['title']\n",
    "            except:\n",
    "                review_date = 'missing'\n",
    "#=====================================================================================================================\n",
    "# Mobile?\n",
    "#=====================================================================================================================\n",
    "            try:\n",
    "                viamobile = r.find('span', {'class':'viaMobile'}).getText()\n",
    "            except:\n",
    "                viamobile = 'no'\n",
    "#=====================================================================================================================\n",
    "# Review quote\n",
    "#=====================================================================================================================\n",
    "            try:\n",
    "                quote = r.find('span', {'class':'noQuotes'}).getText()\n",
    "            except:\n",
    "                quote = 'missing'\n",
    "\n",
    "            try:\n",
    "                review = r.find('p', {'class':'partial_entry'}).getText()\n",
    "            except:\n",
    "                review = 'missing'\n",
    "\n",
    "            try:\n",
    "                rlink = r.find('span', {'class':'noQuotes'}).previous['href']\n",
    "            except:\n",
    "                rlink = 'missing'\n",
    "#=====================================================================================================================\n",
    "# Save to database\n",
    "#=====================================================================================================================\n",
    "            try:\n",
    "                conn = pg2.connect(host=\"localhost\",database=\"suppliers\", user=\"postgres\", password=\"postgres\",connect_timeout=10)\n",
    "                cur = conn.cursor()\n",
    "                sql = \"\"\"INSERT INTO r0(userID, attraction, user_location, user_Contributions, user_UpVotes, viaMobile, review_quote, review_content, reviewlink) VALUES(%s, %s, %s, %s, %s, %s, %s, %s, %s);\"\"\"\n",
    "                cur.execute(sql, (user, x[0], user_location, user_Contributions, user_UpVotes, viamobile, quote, review, rlink))\n",
    "                conn.commit()\n",
    "            except:\n",
    "                logging.exception('Data base (revi) error on page : %s', url)\n"
   ]
  },
  {
   "cell_type": "code",
   "execution_count": 57,
   "metadata": {},
   "outputs": [],
   "source": [
    "conn = pg2.connect(host=\"localhost\",database=\"suppliers\", user=\"postgres\", password=\"postgres\",connect_timeout=10)\n",
    "cur = conn.cursor()"
   ]
  },
  {
   "cell_type": "code",
   "execution_count": 58,
   "metadata": {},
   "outputs": [
    {
     "ename": "NameError",
     "evalue": "name 'attraction' is not defined",
     "output_type": "error",
     "traceback": [
      "\u001b[1;31m---------------------------------------------------------------------------\u001b[0m",
      "\u001b[1;31mNameError\u001b[0m                                 Traceback (most recent call last)",
      "\u001b[1;32m<ipython-input-58-4058f19318e6>\u001b[0m in \u001b[0;36m<module>\u001b[1;34m()\u001b[0m\n\u001b[0;32m      1\u001b[0m \u001b[0msql\u001b[0m \u001b[1;33m=\u001b[0m \u001b[1;34m\"\"\"INSERT INTO r0(userID, attraction, user_location, user_Contributions, user_UpVotes, viaMobile, review_quote, review_content, reviewlink) VALUES(%s, %s, %s, %s, %s, %s, %s, %s, %s);\"\"\"\u001b[0m\u001b[1;33m\u001b[0m\u001b[0m\n\u001b[1;32m----> 2\u001b[1;33m \u001b[0mcur\u001b[0m\u001b[1;33m.\u001b[0m\u001b[0mexecute\u001b[0m\u001b[1;33m(\u001b[0m\u001b[0msql\u001b[0m\u001b[1;33m,\u001b[0m \u001b[1;33m(\u001b[0m\u001b[0muser\u001b[0m\u001b[1;33m,\u001b[0m \u001b[0mattraction\u001b[0m\u001b[1;33m,\u001b[0m \u001b[0muser_location\u001b[0m\u001b[1;33m,\u001b[0m \u001b[0muser_Contributions\u001b[0m\u001b[1;33m,\u001b[0m \u001b[0muser_UpVotes\u001b[0m\u001b[1;33m,\u001b[0m \u001b[0mviamobile\u001b[0m\u001b[1;33m,\u001b[0m \u001b[0mquote\u001b[0m\u001b[1;33m,\u001b[0m \u001b[0mreview\u001b[0m\u001b[1;33m,\u001b[0m \u001b[0mrlink\u001b[0m\u001b[1;33m)\u001b[0m\u001b[1;33m)\u001b[0m\u001b[1;33m\u001b[0m\u001b[0m\n\u001b[0m\u001b[0;32m      3\u001b[0m \u001b[0mconn\u001b[0m\u001b[1;33m.\u001b[0m\u001b[0mcommit\u001b[0m\u001b[1;33m(\u001b[0m\u001b[1;33m)\u001b[0m\u001b[1;33m\u001b[0m\u001b[0m\n",
      "\u001b[1;31mNameError\u001b[0m: name 'attraction' is not defined"
     ]
    }
   ],
   "source": [
    "sql = \"\"\"INSERT INTO r0(userID, attraction, user_location, user_Contributions, user_UpVotes, viaMobile, review_quote, review_content, reviewlink) VALUES(%s, %s, %s, %s, %s, %s, %s, %s, %s);\"\"\"\n",
    "cur.execute(sql, (user, attraction, user_location, user_Contributions, user_UpVotes, viamobile, quote, review, rlink))\n",
    "conn.commit()"
   ]
  },
  {
   "cell_type": "code",
   "execution_count": 15,
   "metadata": {},
   "outputs": [
    {
     "data": {
      "text/plain": [
       "('-Reviews-or%d-', 10)"
      ]
     },
     "execution_count": 15,
     "metadata": {},
     "output_type": "execute_result"
    }
   ],
   "source": [
    "('-Reviews-or%d-',10)"
   ]
  },
  {
   "cell_type": "code",
   "execution_count": 47,
   "metadata": {},
   "outputs": [
    {
     "name": "stdout",
     "output_type": "stream",
     "text": [
      "['Jurassic Kingdom', '/Attraction_Review-g186338-d12340074-Reviews-Jurassic_Kingdom-London_England.html', '36']\n"
     ]
    }
   ],
   "source": [
    "for x in u[870:8704]:\n",
    "    print x"
   ]
  },
  {
   "cell_type": "code",
   "execution_count": 71,
   "metadata": {},
   "outputs": [
    {
     "data": {
      "text/plain": [
       "u'10'"
      ]
     },
     "execution_count": 71,
     "metadata": {},
     "output_type": "execute_result"
    }
   ],
   "source": [
    "r.find('div', {'class':'ratingInfo'}).next['class'][1][-2:]"
   ]
  },
  {
   "cell_type": "code",
   "execution_count": 70,
   "metadata": {},
   "outputs": [
    {
     "data": {
      "text/plain": [
       "u'10'"
      ]
     },
     "execution_count": 70,
     "metadata": {},
     "output_type": "execute_result"
    }
   ],
   "source": [
    "bubble[-2:]"
   ]
  },
  {
   "cell_type": "code",
   "execution_count": null,
   "metadata": {
    "collapsed": true
   },
   "outputs": [],
   "source": []
  }
 ],
 "metadata": {
  "kernelspec": {
   "display_name": "Python 2",
   "language": "python",
   "name": "python2"
  },
  "language_info": {
   "codemirror_mode": {
    "name": "ipython",
    "version": 2
   },
   "file_extension": ".py",
   "mimetype": "text/x-python",
   "name": "python",
   "nbconvert_exporter": "python",
   "pygments_lexer": "ipython2",
   "version": "2.7.13"
  }
 },
 "nbformat": 4,
 "nbformat_minor": 2
}
