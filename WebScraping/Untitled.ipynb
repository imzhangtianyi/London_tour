{
 "cells": [
  {
   "cell_type": "code",
   "execution_count": 1,
   "metadata": {
    "collapsed": true
   },
   "outputs": [],
   "source": [
    "import csv\n",
    "with open('att_url.csv', 'rb') as csvfile:\n",
    "    u = list(csv.reader(csvfile))"
   ]
  },
  {
   "cell_type": "code",
   "execution_count": 2,
   "metadata": {},
   "outputs": [
    {
     "data": {
      "text/plain": [
       "[['/Attraction_Review-g186338-d188474-Reviews-South_Kensington-London_England.html'],\n",
       " ['/Attraction_Review-g186338-d523725-Reviews-Thames_River-London_England.html'],\n",
       " ['/Attraction_Review-g186338-d211644-Reviews-Old_Operating_Theatre-London_England.html'],\n",
       " ['/Attraction_Review-g186338-d638489-Reviews-Petrie_Museum_of_Egyptian_Archaeology-London_England.html'],\n",
       " ['/Attraction_Review-g186338-d507142-Reviews-London_Buses-London_England.html']]"
      ]
     },
     "execution_count": 2,
     "metadata": {},
     "output_type": "execute_result"
    }
   ],
   "source": [
    "u[125:130]"
   ]
  },
  {
   "cell_type": "code",
   "execution_count": 1,
   "metadata": {
    "collapsed": true
   },
   "outputs": [],
   "source": [
    "from selenium import webdriver"
   ]
  },
  {
   "cell_type": "code",
   "execution_count": 2,
   "metadata": {
    "collapsed": true
   },
   "outputs": [],
   "source": [
    "driver = webdriver.Chrome()"
   ]
  },
  {
   "cell_type": "code",
   "execution_count": 3,
   "metadata": {
    "collapsed": true
   },
   "outputs": [],
   "source": [
    "driver.get('https://www.tripadvisor.com/Attraction_Review-g186338-d188862-Reviews-National_Gallery-London_England.html')"
   ]
  },
  {
   "cell_type": "code",
   "execution_count": 4,
   "metadata": {
    "collapsed": true
   },
   "outputs": [],
   "source": [
    "html = driver.page_source"
   ]
  },
  {
   "cell_type": "code",
   "execution_count": 5,
   "metadata": {
    "collapsed": true
   },
   "outputs": [],
   "source": [
    "from bs4 import BeautifulSoup"
   ]
  },
  {
   "cell_type": "code",
   "execution_count": 6,
   "metadata": {
    "collapsed": true
   },
   "outputs": [],
   "source": [
    "soup = BeautifulSoup(html, \"html.parser\")"
   ]
  },
  {
   "cell_type": "code",
   "execution_count": 8,
   "metadata": {},
   "outputs": [
    {
     "data": {
      "text/plain": [
       "<div class=\"detail_section duration\"><span class=\"ui_icon duration\"></span>Suggested Duration: 2-3 hours</div>"
      ]
     },
     "execution_count": 8,
     "metadata": {},
     "output_type": "execute_result"
    }
   ],
   "source": [
    "soup.find('div', {'class':'detail_section duration'})"
   ]
  },
  {
   "cell_type": "code",
   "execution_count": 9,
   "metadata": {},
   "outputs": [
    {
     "data": {
      "text/plain": [
       "u'The National Gallery houses the national collection of paintings in the Western European tradition from the 13th to the 19th centuries. It is on show 361 days a year, free of charge.'"
      ]
     },
     "execution_count": 9,
     "metadata": {},
     "output_type": "execute_result"
    }
   ],
   "source": [
    "soup.find('div', {'class':'modal-card-body'}).getText()"
   ]
  },
  {
   "cell_type": "code",
   "execution_count": 2,
   "metadata": {
    "collapsed": true
   },
   "outputs": [],
   "source": [
    "from bs4 import BeautifulSoup\n",
    "import requests\n"
   ]
  },
  {
   "cell_type": "code",
   "execution_count": 3,
   "metadata": {
    "collapsed": true
   },
   "outputs": [],
   "source": [
    "page_link ='https://www.tripadvisor.com/Attractions-g186338-Activities-oa150-London_England.html#FILTERED_LIST'\n",
    "# fetch the content from url\n",
    "page_response = requests.get(page_link, timeout=5)\n",
    "# parse html\n",
    "page_content = BeautifulSoup(page_response.content, \"html.parser\")\n",
    "\n"
   ]
  },
  {
   "cell_type": "code",
   "execution_count": 5,
   "metadata": {},
   "outputs": [
    {
     "data": {
      "text/plain": [
       "[<div class=\"popRanking wrap\">\\n#151 of 1,823 things to do in London\\n</div>,\n",
       " <div class=\"popRanking wrap\">\\n#152 of 1,823 things to do near London\\n</div>,\n",
       " <div class=\"popRanking wrap\">\\n#153 of 1,823 things to do in London\\n</div>,\n",
       " <div class=\"popRanking wrap\">\\n#154 of 1,823 things to do in London\\n</div>,\n",
       " <div class=\"popRanking wrap\">\\n#155 of 1,823 things to do in London\\n</div>,\n",
       " <div class=\"popRanking wrap\">\\n#156 of 1,823 things to do in London\\n</div>,\n",
       " <div class=\"popRanking wrap\">\\n#157 of 1,823 things to do in London\\n</div>,\n",
       " <div class=\"popRanking wrap\">\\n#158 of 1,823 things to do in London\\n</div>,\n",
       " <div class=\"popRanking wrap\">\\n#159 of 1,823 things to do in London\\n</div>,\n",
       " <div class=\"popRanking wrap\">\\n#160 of 1,823 things to do in London\\n</div>,\n",
       " <div class=\"popRanking wrap\">\\n#161 of 1,823 things to do in London\\n</div>,\n",
       " <div class=\"popRanking wrap\">\\n#162 of 1,823 things to do in London\\n</div>,\n",
       " <div class=\"popRanking wrap\">\\n#163 of 1,823 things to do in London\\n</div>,\n",
       " <div class=\"popRanking wrap\">\\n#164 of 1,823 things to do in London\\n</div>,\n",
       " <div class=\"popRanking wrap\">\\n#165 of 1,823 things to do in London\\n</div>,\n",
       " <div class=\"popRanking wrap\">\\n#166 of 1,823 things to do in London\\n</div>,\n",
       " <div class=\"popRanking wrap\">\\n#167 of 1,823 things to do in London\\n</div>,\n",
       " <div class=\"popRanking wrap\">\\n#168 of 1,823 things to do in London\\n</div>,\n",
       " <div class=\"popRanking wrap\">\\n#169 of 1,823 things to do in London\\n</div>,\n",
       " <div class=\"popRanking wrap\">\\n#170 of 1,823 things to do in London\\n</div>,\n",
       " <div class=\"popRanking wrap\">\\n#171 of 1,823 things to do in London\\n</div>,\n",
       " <div class=\"popRanking wrap\">\\n#172 of 1,823 things to do in London\\n</div>,\n",
       " <div class=\"popRanking wrap\">\\n#173 of 1,823 things to do in London\\n</div>,\n",
       " <div class=\"popRanking wrap\">\\n#174 of 1,823 things to do in London\\n</div>,\n",
       " <div class=\"popRanking wrap\">\\n#175 of 1,823 things to do in London\\n</div>,\n",
       " <div class=\"popRanking wrap\">\\n#176 of 1,823 things to do in London\\n</div>,\n",
       " <div class=\"popRanking wrap\">\\n#177 of 1,823 things to do in London\\n</div>,\n",
       " <div class=\"popRanking wrap\">\\n#178 of 1,823 things to do in London\\n</div>,\n",
       " <div class=\"popRanking wrap\">\\n#179 of 1,823 things to do in London\\n</div>,\n",
       " <div class=\"popRanking wrap\">\\n#180 of 1,823 things to do in London\\n</div>]"
      ]
     },
     "execution_count": 5,
     "metadata": {},
     "output_type": "execute_result"
    }
   ],
   "source": [
    "page_content.find_all('div', {'class':'popRanking wrap'})"
   ]
  },
  {
   "cell_type": "code",
   "execution_count": 8,
   "metadata": {
    "collapsed": true
   },
   "outputs": [],
   "source": [
    "# extract all html elements where price is stored\n",
    "prices = page_content.find_all(class_='reviewBody')\n",
    "# prices has a form:\n",
    "#[<div class=\"main_price\">Price: $66.68</div>,\n",
    "# <div class=\"main_price\">Price: $56.68</div>]\n",
    "\n",
    "# you can also access the main_price class by specifying the tag of the class\n",
    "prices = page_content.find_all('div', attrs={'class':'main_price'})"
   ]
  },
  {
   "cell_type": "code",
   "execution_count": 9,
   "metadata": {
    "collapsed": true
   },
   "outputs": [],
   "source": [
    "page_link ='https://www.tripadvisor.com/Attractions-g186338-Activities-oa30-London_England.html#FILTERED_LIST'\n",
    "# fetch the content from url\n",
    "page_response = requests.get(page_link, timeout=1)\n",
    "# parse html\n",
    "page_content = BeautifulSoup(page_response.content, \"html.parser\")\n",
    "b = page_content.find('div', {'class':'listing_title'})"
   ]
  },
  {
   "cell_type": "code",
   "execution_count": 14,
   "metadata": {
    "collapsed": true
   },
   "outputs": [],
   "source": [
    "b = page_content.find_all('div', {'class':'listing_title'})"
   ]
  },
  {
   "cell_type": "code",
   "execution_count": 20,
   "metadata": {},
   "outputs": [
    {
     "data": {
      "text/plain": [
       "<div class=\"listing_title \">\\n<a href=\"/Attraction_Review-g186338-d188901-Reviews-Harrods-London_England.html\" onclick=\" event.stopPropagation();ta.setEvtCookie('Attraction_List_Click', 'POI_click', 'name', 6, '/Attraction_Review')\" target=\"_blank\">Harrods</a>\\n</div>"
      ]
     },
     "execution_count": 20,
     "metadata": {},
     "output_type": "execute_result"
    }
   ],
   "source": [
    "b[5]"
   ]
  },
  {
   "cell_type": "code",
   "execution_count": 19,
   "metadata": {
    "collapsed": true
   },
   "outputs": [],
   "source": [
    "dic = {\n",
    "\"@context\" : \"http://schema.org\",\n",
    "\"@type\" : \"Review\",\n",
    "\"name\" : \"Truly amazing experience!\",\n",
    "\"url\" : \"/Attraction_Review-g186338-d188862-Reviews-National_Gallery-London_England.html\",\n",
    "\"image\" : \"https://media-cdn.tripadvisor.com/media/photo-s/08/15/74/b2/galeria-nacional.jpg\",\n",
    "\"datePublished\" : \"May 12, 2018\",\n",
    "\"author\" : \"a TripAdvisor user\",\n",
    "\"reviewBody\" : \"We had finished a tour and was in the area, it started to rain pretty heavily so we took this opportunity explore the National Gallery.  We had limited time this day so we got a map and set out to see those famous artist we have only seen in books. \\\\nWe made our way through a couple of rooms full of beautiful paintings as we headed to see the works of Van Gogh, Monet, and Renoir. The vibrant colors of some of the paintings were like nothing we had seen before, the rich hues, and the details.  Being able to stand mere feet away from the paintings of such famous artist was an awe inspiring moment. \\\\n\\\\nWe didn\\\\'t have time to take and enjoy all the museum had to offer; this only means we have a reason to return!\",\n",
    "\"reviewRating\" : {\n",
    "\"@type\" : \"Rating\",\n",
    "\"ratingValue\" : \"5\"\n",
    "}\n",
    "}"
   ]
  },
  {
   "cell_type": "code",
   "execution_count": 28,
   "metadata": {
    "collapsed": true
   },
   "outputs": [],
   "source": [
    "n = range(0,301,30)"
   ]
  },
  {
   "cell_type": "code",
   "execution_count": 29,
   "metadata": {
    "collapsed": true
   },
   "outputs": [],
   "source": [
    "u = map(lambda x: 'https://www.tripadvisor.com/Attractions-g186338-Activities-oa' + str(x) + '-London_England.html#FILTERED_LIST', n)"
   ]
  },
  {
   "cell_type": "code",
   "execution_count": 44,
   "metadata": {
    "collapsed": true
   },
   "outputs": [],
   "source": [
    "import time"
   ]
  },
  {
   "cell_type": "code",
   "execution_count": 48,
   "metadata": {},
   "outputs": [
    {
     "name": "stdout",
     "output_type": "stream",
     "text": [
      "Wall time: 28.5 s\n"
     ]
    }
   ],
   "source": [
    "%%time\n",
    "bl = []\n",
    "for url in u:\n",
    "    page_response = requests.get(url, timeout=5)\n",
    "    time.sleep(1)\n",
    "    page_content = BeautifulSoup(page_response.content, \"html.parser\")\n",
    "    b = page_content.find('div', {'class':'listing_title'})\n",
    "    bl.append(b)"
   ]
  },
  {
   "cell_type": "code",
   "execution_count": 50,
   "metadata": {},
   "outputs": [
    {
     "data": {
      "text/plain": [
       "11"
      ]
     },
     "execution_count": 50,
     "metadata": {},
     "output_type": "execute_result"
    }
   ],
   "source": [
    "len(bl)"
   ]
  },
  {
   "cell_type": "code",
   "execution_count": 59,
   "metadata": {
    "collapsed": true
   },
   "outputs": [],
   "source": [
    "c = bl[1].find('a').get('href')"
   ]
  },
  {
   "cell_type": "code",
   "execution_count": 62,
   "metadata": {},
   "outputs": [
    {
     "data": {
      "text/plain": [
       "u'/Attractions-g186338-Activities-c42-t204-London_England.html'"
      ]
     },
     "execution_count": 62,
     "metadata": {},
     "output_type": "execute_result"
    }
   ],
   "source": [
    "c"
   ]
  },
  {
   "cell_type": "code",
   "execution_count": 63,
   "metadata": {},
   "outputs": [
    {
     "data": {
      "text/plain": [
       "True"
      ]
     },
     "execution_count": 63,
     "metadata": {},
     "output_type": "execute_result"
    }
   ],
   "source": [
    "'Activities' in c"
   ]
  },
  {
   "cell_type": "code",
   "execution_count": 9,
   "metadata": {
    "collapsed": true
   },
   "outputs": [],
   "source": [
    "a = page_content.find_all('script', type=\"application/ld+json\")"
   ]
  },
  {
   "cell_type": "code",
   "execution_count": 1,
   "metadata": {
    "collapsed": true
   },
   "outputs": [],
   "source": [
    "import csv\n",
    "with open('urls.csv', 'rb') as f:\n",
    "    reader = csv.reader(f)\n",
    "    a = list(reader)"
   ]
  },
  {
   "cell_type": "code",
   "execution_count": 8,
   "metadata": {
    "collapsed": true
   },
   "outputs": [],
   "source": [
    "urls = a[0]"
   ]
  },
  {
   "cell_type": "code",
   "execution_count": 17,
   "metadata": {
    "collapsed": true
   },
   "outputs": [],
   "source": [
    "boo1 = map(lambda x: '-Activities-' not in x,urls)"
   ]
  },
  {
   "cell_type": "code",
   "execution_count": 13,
   "metadata": {
    "collapsed": true
   },
   "outputs": [],
   "source": [
    "import pandas as pd"
   ]
  },
  {
   "cell_type": "code",
   "execution_count": 15,
   "metadata": {
    "collapsed": true
   },
   "outputs": [],
   "source": [
    "u = pd.DataFrame(urls)"
   ]
  },
  {
   "cell_type": "code",
   "execution_count": 19,
   "metadata": {
    "collapsed": true
   },
   "outputs": [],
   "source": [
    "ua = u.loc[boo1]"
   ]
  },
  {
   "cell_type": "code",
   "execution_count": 23,
   "metadata": {
    "collapsed": true
   },
   "outputs": [],
   "source": [
    "ua.to_csv('att_url.csv', index=False)"
   ]
  },
  {
   "cell_type": "code",
   "execution_count": 24,
   "metadata": {
    "collapsed": true
   },
   "outputs": [],
   "source": [
    "with open('att_url.csv', 'rb') as f:\n",
    "    reader = csv.reader(f)\n",
    "    b = list(reader)"
   ]
  },
  {
   "cell_type": "code",
   "execution_count": 35,
   "metadata": {},
   "outputs": [
    {
     "data": {
      "text/plain": [
       "'https://www.tripadvisor.com/Attraction_Review-g186338-d188862-Reviews-National_Gallery-London_England.html'"
      ]
     },
     "execution_count": 35,
     "metadata": {},
     "output_type": "execute_result"
    }
   ],
   "source": [
    "'https://www.tripadvisor.com' + b[0][0]"
   ]
  },
  {
   "cell_type": "code",
   "execution_count": null,
   "metadata": {
    "collapsed": true
   },
   "outputs": [],
   "source": []
  }
 ],
 "metadata": {
  "kernelspec": {
   "display_name": "Python 2",
   "language": "python",
   "name": "python2"
  },
  "language_info": {
   "codemirror_mode": {
    "name": "ipython",
    "version": 2
   },
   "file_extension": ".py",
   "mimetype": "text/x-python",
   "name": "python",
   "nbconvert_exporter": "python",
   "pygments_lexer": "ipython2",
   "version": "2.7.13"
  }
 },
 "nbformat": 4,
 "nbformat_minor": 2
}
